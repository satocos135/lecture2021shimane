{
 "cells": [
  {
   "cell_type": "markdown",
   "metadata": {},
   "source": [
    "# 実習② 夏目漱石『こころ』の分析"
   ]
  },
  {
   "cell_type": "code",
   "execution_count": 1,
   "metadata": {},
   "outputs": [
    {
     "name": "stderr",
     "output_type": "stream",
     "text": [
      "-- \u001b[1mAttaching packages\u001b[22m --------------------------------------- tidyverse 1.3.0 --\n",
      "\n",
      "\u001b[32m√\u001b[39m \u001b[34mggplot2\u001b[39m 3.3.2     \u001b[32m√\u001b[39m \u001b[34mpurrr  \u001b[39m 0.3.4\n",
      "\u001b[32m√\u001b[39m \u001b[34mtibble \u001b[39m 3.0.1     \u001b[32m√\u001b[39m \u001b[34mdplyr  \u001b[39m 1.0.0\n",
      "\u001b[32m√\u001b[39m \u001b[34mtidyr  \u001b[39m 1.1.0     \u001b[32m√\u001b[39m \u001b[34mstringr\u001b[39m 1.4.0\n",
      "\u001b[32m√\u001b[39m \u001b[34mreadr  \u001b[39m 1.3.1     \u001b[32m√\u001b[39m \u001b[34mforcats\u001b[39m 0.5.0\n",
      "\n",
      "-- \u001b[1mConflicts\u001b[22m ------------------------------------------ tidyverse_conflicts() --\n",
      "\u001b[31mx\u001b[39m \u001b[34mdplyr\u001b[39m::\u001b[32mfilter()\u001b[39m masks \u001b[34mstats\u001b[39m::filter()\n",
      "\u001b[31mx\u001b[39m \u001b[34mdplyr\u001b[39m::\u001b[32mlag()\u001b[39m    masks \u001b[34mstats\u001b[39m::lag()\n",
      "\n"
     ]
    }
   ],
   "source": [
    "# install.packages('tidyverse', repos = \"http://cran.us.r-project.org\")\n",
    "library('tidyverse')"
   ]
  },
  {
   "cell_type": "code",
   "execution_count": 2,
   "metadata": {},
   "outputs": [],
   "source": [
    "library('RMeCab')"
   ]
  },
  {
   "cell_type": "code",
   "execution_count": 3,
   "metadata": {},
   "outputs": [],
   "source": [
    "kokoro = read.delim('data/kokoro.tsv', header=T, sep='\\t', stringsAsFactor=F, fileEncoding='utf8')"
   ]
  },
  {
   "cell_type": "code",
   "execution_count": 4,
   "metadata": {},
   "outputs": [
    {
     "data": {
      "text/html": [
       "<table>\n",
       "<caption>A data.frame: 2 × 4</caption>\n",
       "<thead>\n",
       "\t<tr><th></th><th scope=col>part_id</th><th scope=col>section_id</th><th scope=col>paragraph_id</th><th scope=col>content</th></tr>\n",
       "\t<tr><th></th><th scope=col>&lt;int&gt;</th><th scope=col>&lt;int&gt;</th><th scope=col>&lt;int&gt;</th><th scope=col>&lt;chr&gt;</th></tr>\n",
       "</thead>\n",
       "<tbody>\n",
       "\t<tr><th scope=row>1</th><td>1</td><td>1</td><td>1</td><td>私はその人を常に先生と呼んでいた。だからここでもただ先生と書くだけで本名は打ち明けない。これは世間を憚かる遠慮というよりも、その方が私にとって自然だからである。私はその人の記憶を呼び起すごとに、すぐ「先生」といいたくなる。筆を執っても心持は同じ事である。よそよそしい頭文字などはとても使う気にならない。                                                                                                                                                                                                                                                                                                                                                                                                                                                                                                                                                                              </td></tr>\n",
       "\t<tr><th scope=row>2</th><td>1</td><td>1</td><td>2</td><td>私が先生と知り合いになったのは鎌倉である。その時私はまだ若々しい書生であった。暑中休暇を利用して海水浴に行った友達からぜひ来いという端書を受け取ったので、私は多少の金を工面して、出掛ける事にした。私は金の工面に二、三日を費やした。ところが私が鎌倉に着いて三日と経たないうちに、私を呼び寄せた友達は、急に国元から帰れという電報を受け取った。電報には母が病気だからと断ってあったけれども友達はそれを信じなかった。友達はかねてから国元にいる親たちに勧まない結婚を強いられていた。彼は現代の習慣からいうと結婚するにはあまり年が若過ぎた。それに肝心の当人が気に入らなかった。それで夏休みに当然帰るべきところを、わざと避けて東京の近くで遊んでいたのである。彼は電報を私に見せてどうしようと相談をした。私にはどうしていいか分らなかった。けれども実際彼の母が病気であるとすれば彼は固より帰るべきはずであった。それで彼はとうとう帰る事になった。せっかく来た私は一人取り残された。</td></tr>\n",
       "</tbody>\n",
       "</table>\n"
      ],
      "text/latex": [
       "A data.frame: 2 × 4\n",
       "\\begin{tabular}{r|llll}\n",
       "  & part\\_id & section\\_id & paragraph\\_id & content\\\\\n",
       "  & <int> & <int> & <int> & <chr>\\\\\n",
       "\\hline\n",
       "\t1 & 1 & 1 & 1 & 私はその人を常に先生と呼んでいた。だからここでもただ先生と書くだけで本名は打ち明けない。これは世間を憚かる遠慮というよりも、その方が私にとって自然だからである。私はその人の記憶を呼び起すごとに、すぐ「先生」といいたくなる。筆を執っても心持は同じ事である。よそよそしい頭文字などはとても使う気にならない。                                                                                                                                                                                                                                                                                                                                                                                                                                                                                                                                                                              \\\\\n",
       "\t2 & 1 & 1 & 2 & 私が先生と知り合いになったのは鎌倉である。その時私はまだ若々しい書生であった。暑中休暇を利用して海水浴に行った友達からぜひ来いという端書を受け取ったので、私は多少の金を工面して、出掛ける事にした。私は金の工面に二、三日を費やした。ところが私が鎌倉に着いて三日と経たないうちに、私を呼び寄せた友達は、急に国元から帰れという電報を受け取った。電報には母が病気だからと断ってあったけれども友達はそれを信じなかった。友達はかねてから国元にいる親たちに勧まない結婚を強いられていた。彼は現代の習慣からいうと結婚するにはあまり年が若過ぎた。それに肝心の当人が気に入らなかった。それで夏休みに当然帰るべきところを、わざと避けて東京の近くで遊んでいたのである。彼は電報を私に見せてどうしようと相談をした。私にはどうしていいか分らなかった。けれども実際彼の母が病気であるとすれば彼は固より帰るべきはずであった。それで彼はとうとう帰る事になった。せっかく来た私は一人取り残された。\\\\\n",
       "\\end{tabular}\n"
      ],
      "text/markdown": [
       "\n",
       "A data.frame: 2 × 4\n",
       "\n",
       "| <!--/--> | part_id &lt;int&gt; | section_id &lt;int&gt; | paragraph_id &lt;int&gt; | content &lt;chr&gt; |\n",
       "|---|---|---|---|---|\n",
       "| 1 | 1 | 1 | 1 | 私はその人を常に先生と呼んでいた。だからここでもただ先生と書くだけで本名は打ち明けない。これは世間を憚かる遠慮というよりも、その方が私にとって自然だからである。私はその人の記憶を呼び起すごとに、すぐ「先生」といいたくなる。筆を執っても心持は同じ事である。よそよそしい頭文字などはとても使う気にならない。                                                                                                                                                                                                                                                                                                                                                                                                                                                                                                                                                                               |\n",
       "| 2 | 1 | 1 | 2 | 私が先生と知り合いになったのは鎌倉である。その時私はまだ若々しい書生であった。暑中休暇を利用して海水浴に行った友達からぜひ来いという端書を受け取ったので、私は多少の金を工面して、出掛ける事にした。私は金の工面に二、三日を費やした。ところが私が鎌倉に着いて三日と経たないうちに、私を呼び寄せた友達は、急に国元から帰れという電報を受け取った。電報には母が病気だからと断ってあったけれども友達はそれを信じなかった。友達はかねてから国元にいる親たちに勧まない結婚を強いられていた。彼は現代の習慣からいうと結婚するにはあまり年が若過ぎた。それに肝心の当人が気に入らなかった。それで夏休みに当然帰るべきところを、わざと避けて東京の近くで遊んでいたのである。彼は電報を私に見せてどうしようと相談をした。私にはどうしていいか分らなかった。けれども実際彼の母が病気であるとすれば彼は固より帰るべきはずであった。それで彼はとうとう帰る事になった。せっかく来た私は一人取り残された。 |\n",
       "\n"
      ],
      "text/plain": [
       "  part_id section_id paragraph_id\n",
       "1 1       1          1           \n",
       "2 1       1          2           \n",
       "  content                                                                                                                                                                                                                                                                                                                                                                                                                                                                                                                                                                                                                                                                                                                                                                                                                                                                                     \n",
       "1 私はその人を常に先生と呼んでいた。だからここでもただ先生と書くだけで本名は打ち明けない。これは世間を憚かる遠慮というよりも、その方が私にとって自然だからである。私はその人の記憶を呼び起すごとに、すぐ「先生」といいたくなる。筆を執っても心持は同じ事である。よそよそしい頭文字などはとても使う気にならない。                                                                                                                                                                                                                                                                                                                                                                                                                                                                                                                                                                              \n",
       "2 私が先生と知り合いになったのは鎌倉である。その時私はまだ若々しい書生であった。暑中休暇を利用して海水浴に行った友達からぜひ来いという端書を受け取ったので、私は多少の金を工面して、出掛ける事にした。私は金の工面に二、三日を費やした。ところが私が鎌倉に着いて三日と経たないうちに、私を呼び寄せた友達は、急に国元から帰れという電報を受け取った。電報には母が病気だからと断ってあったけれども友達はそれを信じなかった。友達はかねてから国元にいる親たちに勧まない結婚を強いられていた。彼は現代の習慣からいうと結婚するにはあまり年が若過ぎた。それに肝心の当人が気に入らなかった。それで夏休みに当然帰るべきところを、わざと避けて東京の近くで遊んでいたのである。彼は電報を私に見せてどうしようと相談をした。私にはどうしていいか分らなかった。けれども実際彼の母が病気であるとすれば彼は固より帰るべきはずであった。それで彼はとうとう帰る事になった。せっかく来た私は一人取り残された。"
      ]
     },
     "metadata": {},
     "output_type": "display_data"
    }
   ],
   "source": [
    "kokoro[1:2,] "
   ]
  },
  {
   "cell_type": "code",
   "execution_count": 5,
   "metadata": {},
   "outputs": [
    {
     "data": {
      "image/png": "[encoded data removed]",
      "text/plain": [
       "Plot with title \"Histogram of paragraph length\""
      ]
     },
     "metadata": {
      "image/png": {
       "height": 420,
       "width": 420
      }
     },
     "output_type": "display_data"
    }
   ],
   "source": [
    "# 段落の長さの分布\n",
    "kokoro[, 'content'] %>% str_length() %>% hist(breaks=40, xlab='Paragraph length', main='Histogram of paragraph length')"
   ]
  },
  {
   "cell_type": "code",
   "execution_count": 6,
   "metadata": {},
   "outputs": [],
   "source": [
    "kokoro['length'] = kokoro[, 'content'] %>% str_length()"
   ]
  },
  {
   "cell_type": "code",
   "execution_count": 7,
   "metadata": {},
   "outputs": [
    {
     "data": {
      "image/png": "[encoded data removed]",
      "text/plain": [
       "Plot with title \"Paragraph length of each part\""
      ]
     },
     "metadata": {
      "image/png": {
       "height": 420,
       "width": 420
      }
     },
     "output_type": "display_data"
    }
   ],
   "source": [
    "boxplot(length ~ part_id, data=kokoro, main='Paragraph length of each part')"
   ]
  },
  {
   "cell_type": "code",
   "execution_count": 8,
   "metadata": {},
   "outputs": [],
   "source": [
    "# 全体を通すセクション用idを作る\n",
    "kokoro['section_id2'] = kokoro['part_id'] * 100 + kokoro['section_id']"
   ]
  },
  {
   "cell_type": "code",
   "execution_count": 9,
   "metadata": {},
   "outputs": [
    {
     "data": {
      "image/png": "[encoded data removed]",
      "text/plain": [
       "Plot with title \"Paragraph length of each section\""
      ]
     },
     "metadata": {
      "image/png": {
       "height": 420,
       "width": 420
      }
     },
     "output_type": "display_data"
    }
   ],
   "source": [
    "boxplot(length ~ section_id2, data=kokoro, main='Paragraph length of each section')"
   ]
  },
  {
   "cell_type": "code",
   "execution_count": 10,
   "metadata": {},
   "outputs": [
    {
     "name": "stderr",
     "output_type": "stream",
     "text": [
      "`summarise()` ungrouping output (override with `.groups` argument)\n",
      "\n"
     ]
    }
   ],
   "source": [
    "# 分析のため各話ごとに文章を結合する\n",
    "parts = kokoro %>% \n",
    "    group_by(part_id) %>% \n",
    "    summarise(text = paste0(content, collapse=''))\n",
    "parts = as.data.frame(parts)"
   ]
  },
  {
   "cell_type": "code",
   "execution_count": 11,
   "metadata": {},
   "outputs": [
    {
     "data": {
      "text/html": [
       "<style>\n",
       ".list-inline {list-style: none; margin:0; padding: 0}\n",
       ".list-inline>li {display: inline-block}\n",
       ".list-inline>li:not(:last-child)::after {content: \"\\00b7\"; padding: 0 .5ex}\n",
       "</style>\n",
       "<ol class=list-inline><li>3</li><li>2</li></ol>\n"
      ],
      "text/latex": [
       "\\begin{enumerate*}\n",
       "\\item 3\n",
       "\\item 2\n",
       "\\end{enumerate*}\n"
      ],
      "text/markdown": [
       "1. 3\n",
       "2. 2\n",
       "\n",
       "\n"
      ],
      "text/plain": [
       "[1] 3 2"
      ]
     },
     "metadata": {},
     "output_type": "display_data"
    }
   ],
   "source": [
    "dim(parts)"
   ]
  },
  {
   "cell_type": "code",
   "execution_count": 12,
   "metadata": {},
   "outputs": [
    {
     "data": {
      "text/html": [
       "<style>\n",
       ".list-inline {list-style: none; margin:0; padding: 0}\n",
       ".list-inline>li {display: inline-block}\n",
       ".list-inline>li:not(:last-child)::after {content: \"\\00b7\"; padding: 0 .5ex}\n",
       "</style>\n",
       "<ol class=list-inline><li>49137</li><li>25177</li><li>85670</li></ol>\n"
      ],
      "text/latex": [
       "\\begin{enumerate*}\n",
       "\\item 49137\n",
       "\\item 25177\n",
       "\\item 85670\n",
       "\\end{enumerate*}\n"
      ],
      "text/markdown": [
       "1. 49137\n",
       "2. 25177\n",
       "3. 85670\n",
       "\n",
       "\n"
      ],
      "text/plain": [
       "[1] 49137 25177 85670"
      ]
     },
     "metadata": {},
     "output_type": "display_data"
    }
   ],
   "source": [
    "parts[, 'text'] %>% str_length() "
   ]
  },
  {
   "cell_type": "code",
   "execution_count": 13,
   "metadata": {},
   "outputs": [
    {
     "name": "stdout",
     "output_type": "stream",
     "text": [
      "to make data frame\n",
      "\n"
     ]
    }
   ],
   "source": [
    "count_noun = docMatrixDF(parts[,'text'], pos=c('名詞'))"
   ]
  },
  {
   "cell_type": "code",
   "execution_count": 14,
   "metadata": {},
   "outputs": [],
   "source": [
    "# 全体を集計する\n",
    "freq_noun = count_noun %>% rowSums()"
   ]
  },
  {
   "cell_type": "code",
   "execution_count": 15,
   "metadata": {},
   "outputs": [
    {
     "data": {
      "image/png": "[encoded data removed]",
      "text/plain": [
       "Plot with title \"Distribution of noun frequency\""
      ]
     },
     "metadata": {
      "image/png": {
       "height": 420,
       "width": 420
      }
     },
     "output_type": "display_data"
    }
   ],
   "source": [
    "# 全体を集計する\n",
    "freq_noun %>% sort(decreasing=T) %>% plot(main='Distribution of noun frequency', xlab='Rank', ylab='Frequency')"
   ]
  },
  {
   "cell_type": "code",
   "execution_count": 16,
   "metadata": {},
   "outputs": [
    {
     "data": {
      "image/png": "[encoded data removed]",
      "text/plain": [
       "Plot with title \"Distribution of noun frequency\""
      ]
     },
     "metadata": {
      "image/png": {
       "height": 420,
       "width": 420
      }
     },
     "output_type": "display_data"
    }
   ],
   "source": [
    "freq_noun %>% sort(decreasing=T) %>% plot(main='Distribution of noun frequency', xlab='Rank (log)', ylab='Frequency (log)', log='xy')"
   ]
  },
  {
   "cell_type": "code",
   "execution_count": 17,
   "metadata": {},
   "outputs": [
    {
     "data": {
      "image/png": "[encoded data removed]",
      "text/plain": [
       "Plot with title \"Top 30 nouns\""
      ]
     },
     "metadata": {
      "image/png": {
       "height": 420,
       "width": 420
      }
     },
     "output_type": "display_data"
    }
   ],
   "source": [
    "freq_noun %>% \n",
    "    sort() %>% \n",
    "    tail(30) %>%\n",
    "    barplot(horiz=T, las=1, main='Top 30 nouns', xlab='Frequency')"
   ]
  },
  {
   "cell_type": "code",
   "execution_count": 18,
   "metadata": {},
   "outputs": [],
   "source": [
    "# ストップワードを設定する\n",
    "stopwords = c('事','の','よう','それ','もの', '人', '何','一', 'ん','方','二','前','気','中','上','今','ため')"
   ]
  },
  {
   "cell_type": "code",
   "execution_count": 19,
   "metadata": {},
   "outputs": [
    {
     "data": {
      "image/png": "[encoded data removed]",
      "text/plain": [
       "Plot with title \"Top 30 nouns\""
      ]
     },
     "metadata": {
      "image/png": {
       "height": 420,
       "width": 420
      }
     },
     "output_type": "display_data"
    }
   ],
   "source": [
    "freq_noun[!names(freq_noun) %in% stopwords] %>%\n",
    "    sort() %>% \n",
    "    tail(30) %>% \n",
    "    barplot(horiz=T, las=1, main='Top 30 nouns', xlab='Frequency')"
   ]
  },
  {
   "cell_type": "code",
   "execution_count": 20,
   "metadata": {},
   "outputs": [
    {
     "data": {
      "image/png": "[encoded data removed]",
      "text/plain": [
       "Plot with title \"Top 30 nouns\""
      ]
     },
     "metadata": {
      "image/png": {
       "height": 420,
       "width": 420
      }
     },
     "output_type": "display_data"
    }
   ],
   "source": [
    "# ストップワードをさらに増やす\n",
    "stopwords = c('事','の','よう','それ','もの', '人', '何','一', 'ん','方','二','前','気','中','上','今','ため', '時', 'そこ', 'どこ', 'これ', 'そう')\n",
    "\n",
    "freq_noun[!names(freq_noun) %in% stopwords] %>% \n",
    "    sort() %>% \n",
    "    tail(30) %>% \n",
    "    barplot(horiz=T, las=1, main='Top 30 nouns', xlab='Frequency')"
   ]
  },
  {
   "cell_type": "code",
   "execution_count": 21,
   "metadata": {},
   "outputs": [],
   "source": [
    "# PCA Principal Component Analysis\n",
    "# 主成分分析とバイプロットを使って、各部でどの単語が多いかを図示する\n",
    "mat = count_noun \n",
    "\n",
    "# 全体での頻度が多いもの(n > 50)を選び出す\n",
    "mat = mat[rowSums(mat) > 50, ]\n",
    "\n",
    "# ストップワードを除く\n",
    "mat = mat[!row.names(mat) %in% stopwords, ]\n",
    "\n",
    "colnames(mat) = c('第一部', '第二部', '第三部')\n",
    "mat_t = t(mat)"
   ]
  },
  {
   "cell_type": "code",
   "execution_count": 22,
   "metadata": {},
   "outputs": [
    {
     "data": {
      "text/html": [
       "<table>\n",
       "<caption>A matrix: 6 × 3 of type int</caption>\n",
       "<thead>\n",
       "\t<tr><th></th><th scope=col>第一部</th><th scope=col>第二部</th><th scope=col>第三部</th></tr>\n",
       "</thead>\n",
       "<tbody>\n",
       "\t<tr><th scope=row>あなた</th><td> 70</td><td>10</td><td>107</td></tr>\n",
       "\t<tr><th scope=row>うち</th><td> 43</td><td>29</td><td> 46</td></tr>\n",
       "\t<tr><th scope=row>お嬢さん</th><td>  0</td><td> 0</td><td>168</td></tr>\n",
       "\t<tr><th scope=row>ところ</th><td> 16</td><td>13</td><td> 39</td></tr>\n",
       "\t<tr><th scope=row>意味</th><td> 24</td><td> 8</td><td> 37</td></tr>\n",
       "\t<tr><th scope=row>奥さん</th><td>183</td><td> 7</td><td>198</td></tr>\n",
       "</tbody>\n",
       "</table>\n"
      ],
      "text/latex": [
       "A matrix: 6 × 3 of type int\n",
       "\\begin{tabular}{r|lll}\n",
       "  & 第一部 & 第二部 & 第三部\\\\\n",
       "\\hline\n",
       "\tあなた &  70 & 10 & 107\\\\\n",
       "\tうち &  43 & 29 &  46\\\\\n",
       "\tお嬢さん &   0 &  0 & 168\\\\\n",
       "\tところ &  16 & 13 &  39\\\\\n",
       "\t意味 &  24 &  8 &  37\\\\\n",
       "\t奥さん & 183 &  7 & 198\\\\\n",
       "\\end{tabular}\n"
      ],
      "text/markdown": [
       "\n",
       "A matrix: 6 × 3 of type int\n",
       "\n",
       "| <!--/--> | 第一部 | 第二部 | 第三部 |\n",
       "|---|---|---|---|\n",
       "| あなた |  70 | 10 | 107 |\n",
       "| うち |  43 | 29 |  46 |\n",
       "| お嬢さん |   0 |  0 | 168 |\n",
       "| ところ |  16 | 13 |  39 |\n",
       "| 意味 |  24 |  8 |  37 |\n",
       "| 奥さん | 183 |  7 | 198 |\n",
       "\n"
      ],
      "text/plain": [
       "         第一部 第二部 第三部\n",
       "あなた    70    10     107   \n",
       "うち      43    29      46   \n",
       "お嬢さん   0     0     168   \n",
       "ところ    16    13      39   \n",
       "意味      24     8      37   \n",
       "奥さん   183     7     198   "
      ]
     },
     "metadata": {},
     "output_type": "display_data"
    }
   ],
   "source": [
    "mat %>% head()"
   ]
  },
  {
   "cell_type": "code",
   "execution_count": 23,
   "metadata": {},
   "outputs": [
    {
     "data": {
      "text/html": [
       "<table>\n",
       "<caption>A matrix: 3 × 49 of type dbl</caption>\n",
       "<thead>\n",
       "\t<tr><th></th><th scope=col>あなた</th><th scope=col>うち</th><th scope=col>お嬢さん</th><th scope=col>ところ</th><th scope=col>意味</th><th scope=col>奥さん</th><th scope=col>家</th><th scope=col>外</th><th scope=col>間</th><th scope=col>眼</th><th scope=col>...</th><th scope=col>頭</th><th scope=col>日</th><th scope=col>彼</th><th scope=col>病気</th><th scope=col>父</th><th scope=col>返事</th><th scope=col>母</th><th scope=col>問題</th><th scope=col>様子</th><th scope=col>話</th></tr>\n",
       "</thead>\n",
       "<tbody>\n",
       "\t<tr><th scope=row>第一部</th><td>0.027844073</td><td>0.01710422</td><td>0.00000000</td><td>0.006364360</td><td>0.009546539</td><td>0.072792363</td><td>0.009944312</td><td>0.007557677</td><td>0.013922037</td><td>0.01352426</td><td>...</td><td>0.009546539</td><td>0.01949085</td><td>0.004375497</td><td>0.011137629</td><td>0.019093079</td><td>0.005568815</td><td>0.008750994</td><td>0.0099443119</td><td>0.006364360</td><td>0.005568815</td></tr>\n",
       "\t<tr><th scope=row>第二部</th><td>0.007225434</td><td>0.02095376</td><td>0.00000000</td><td>0.009393064</td><td>0.005780347</td><td>0.005057803</td><td>0.009393064</td><td>0.005057803</td><td>0.008670520</td><td>0.01445087</td><td>...</td><td>0.008670520</td><td>0.01372832</td><td>0.001445087</td><td>0.018063584</td><td>0.134393064</td><td>0.013005780</td><td>0.080202312</td><td>0.0007225434</td><td>0.010838150</td><td>0.006502890</td></tr>\n",
       "\t<tr><th scope=row>第三部</th><td>0.024976657</td><td>0.01073763</td><td>0.03921569</td><td>0.009103641</td><td>0.008636788</td><td>0.046218487</td><td>0.013305322</td><td>0.008403361</td><td>0.009337068</td><td>0.01610644</td><td>...</td><td>0.008636788</td><td>0.01143791</td><td>0.070261438</td><td>0.002334267</td><td>0.008169935</td><td>0.004901961</td><td>0.008636788</td><td>0.0067693744</td><td>0.007002801</td><td>0.012371615</td></tr>\n",
       "</tbody>\n",
       "</table>\n"
      ],
      "text/latex": [
       "A matrix: 3 × 49 of type dbl\n",
       "\\begin{tabular}{r|lllllllllllllllllllll}\n",
       "  & あなた & うち & お嬢さん & ところ & 意味 & 奥さん & 家 & 外 & 間 & 眼 & ... & 頭 & 日 & 彼 & 病気 & 父 & 返事 & 母 & 問題 & 様子 & 話\\\\\n",
       "\\hline\n",
       "\t第一部 & 0.027844073 & 0.01710422 & 0.00000000 & 0.006364360 & 0.009546539 & 0.072792363 & 0.009944312 & 0.007557677 & 0.013922037 & 0.01352426 & ... & 0.009546539 & 0.01949085 & 0.004375497 & 0.011137629 & 0.019093079 & 0.005568815 & 0.008750994 & 0.0099443119 & 0.006364360 & 0.005568815\\\\\n",
       "\t第二部 & 0.007225434 & 0.02095376 & 0.00000000 & 0.009393064 & 0.005780347 & 0.005057803 & 0.009393064 & 0.005057803 & 0.008670520 & 0.01445087 & ... & 0.008670520 & 0.01372832 & 0.001445087 & 0.018063584 & 0.134393064 & 0.013005780 & 0.080202312 & 0.0007225434 & 0.010838150 & 0.006502890\\\\\n",
       "\t第三部 & 0.024976657 & 0.01073763 & 0.03921569 & 0.009103641 & 0.008636788 & 0.046218487 & 0.013305322 & 0.008403361 & 0.009337068 & 0.01610644 & ... & 0.008636788 & 0.01143791 & 0.070261438 & 0.002334267 & 0.008169935 & 0.004901961 & 0.008636788 & 0.0067693744 & 0.007002801 & 0.012371615\\\\\n",
       "\\end{tabular}\n"
      ],
      "text/markdown": [
       "\n",
       "A matrix: 3 × 49 of type dbl\n",
       "\n",
       "| <!--/--> | あなた | うち | お嬢さん | ところ | 意味 | 奥さん | 家 | 外 | 間 | 眼 | ... | 頭 | 日 | 彼 | 病気 | 父 | 返事 | 母 | 問題 | 様子 | 話 |\n",
       "|---|---|---|---|---|---|---|---|---|---|---|---|---|---|---|---|---|---|---|---|---|---|\n",
       "| 第一部 | 0.027844073 | 0.01710422 | 0.00000000 | 0.006364360 | 0.009546539 | 0.072792363 | 0.009944312 | 0.007557677 | 0.013922037 | 0.01352426 | ... | 0.009546539 | 0.01949085 | 0.004375497 | 0.011137629 | 0.019093079 | 0.005568815 | 0.008750994 | 0.0099443119 | 0.006364360 | 0.005568815 |\n",
       "| 第二部 | 0.007225434 | 0.02095376 | 0.00000000 | 0.009393064 | 0.005780347 | 0.005057803 | 0.009393064 | 0.005057803 | 0.008670520 | 0.01445087 | ... | 0.008670520 | 0.01372832 | 0.001445087 | 0.018063584 | 0.134393064 | 0.013005780 | 0.080202312 | 0.0007225434 | 0.010838150 | 0.006502890 |\n",
       "| 第三部 | 0.024976657 | 0.01073763 | 0.03921569 | 0.009103641 | 0.008636788 | 0.046218487 | 0.013305322 | 0.008403361 | 0.009337068 | 0.01610644 | ... | 0.008636788 | 0.01143791 | 0.070261438 | 0.002334267 | 0.008169935 | 0.004901961 | 0.008636788 | 0.0067693744 | 0.007002801 | 0.012371615 |\n",
       "\n"
      ],
      "text/plain": [
       "       あなた      うち       お嬢さん   ところ      意味        奥さん     \n",
       "第一部 0.027844073 0.01710422 0.00000000 0.006364360 0.009546539 0.072792363\n",
       "第二部 0.007225434 0.02095376 0.00000000 0.009393064 0.005780347 0.005057803\n",
       "第三部 0.024976657 0.01073763 0.03921569 0.009103641 0.008636788 0.046218487\n",
       "       家          外          間          眼         ... 頭         \n",
       "第一部 0.009944312 0.007557677 0.013922037 0.01352426 ... 0.009546539\n",
       "第二部 0.009393064 0.005057803 0.008670520 0.01445087 ... 0.008670520\n",
       "第三部 0.013305322 0.008403361 0.009337068 0.01610644 ... 0.008636788\n",
       "       日         彼          病気        父          返事        母         \n",
       "第一部 0.01949085 0.004375497 0.011137629 0.019093079 0.005568815 0.008750994\n",
       "第二部 0.01372832 0.001445087 0.018063584 0.134393064 0.013005780 0.080202312\n",
       "第三部 0.01143791 0.070261438 0.002334267 0.008169935 0.004901961 0.008636788\n",
       "       問題         様子        話         \n",
       "第一部 0.0099443119 0.006364360 0.005568815\n",
       "第二部 0.0007225434 0.010838150 0.006502890\n",
       "第三部 0.0067693744 0.007002801 0.012371615"
      ]
     },
     "metadata": {},
     "output_type": "display_data"
    }
   ],
   "source": [
    "# 出現確率(割合)に変換する\n",
    "# 単語の頻度 / 部の長さ\n",
    "(mat_t / colSums(mat)) "
   ]
  },
  {
   "cell_type": "code",
   "execution_count": 24,
   "metadata": {},
   "outputs": [],
   "source": [
    "# 割合データを主成分分析にかける\n",
    "result = (mat_t / colSums(mat)) %>% prcomp()"
   ]
  },
  {
   "cell_type": "code",
   "execution_count": 25,
   "metadata": {},
   "outputs": [
    {
     "data": {
      "image/png": "[encoded data removed]",
      "text/plain": [
       "plot without title"
      ]
     },
     "metadata": {
      "image/png": {
       "height": 420,
       "width": 420
      }
     },
     "output_type": "display_data"
    }
   ],
   "source": [
    "# 単語の頻度\n",
    "biplot(result)\n",
    "## べき分布なので、頻度の多い単語に引っ張られて他のがよくわからない"
   ]
  },
  {
   "cell_type": "code",
   "execution_count": 26,
   "metadata": {},
   "outputs": [],
   "source": [
    "ratio = mat_t / colSums(mat)\n",
    "ratio_t = t(ratio)"
   ]
  },
  {
   "cell_type": "code",
   "execution_count": 27,
   "metadata": {},
   "outputs": [
    {
     "data": {
      "text/html": [
       "<table>\n",
       "<caption>A matrix: 49 × 3 of type dbl</caption>\n",
       "<thead>\n",
       "\t<tr><th></th><th scope=col>第一部</th><th scope=col>第二部</th><th scope=col>第三部</th></tr>\n",
       "</thead>\n",
       "<tbody>\n",
       "\t<tr><th scope=row>あなた</th><td>0.46371111</td><td>0.12033131</td><td>0.4159575841</td></tr>\n",
       "\t<tr><th scope=row>うち</th><td>0.35052783</td><td>0.42941897</td><td>0.2200532004</td></tr>\n",
       "\t<tr><th scope=row>お嬢さん</th><td>0.00000000</td><td>0.00000000</td><td>1.0000000000</td></tr>\n",
       "\t<tr><th scope=row>ところ</th><td>0.25599707</td><td>0.37782226</td><td>0.3661806762</td></tr>\n",
       "\t<tr><th scope=row>意味</th><td>0.39837544</td><td>0.24121288</td><td>0.3604116781</td></tr>\n",
       "\t<tr><th scope=row>奥さん</th><td>0.58671035</td><td>0.04076617</td><td>0.3725234863</td></tr>\n",
       "\t<tr><th scope=row>家</th><td>0.30464124</td><td>0.28775390</td><td>0.4076048587</td></tr>\n",
       "\t<tr><th scope=row>外</th><td>0.35956677</td><td>0.24063188</td><td>0.3998013504</td></tr>\n",
       "\t<tr><th scope=row>間</th><td>0.43602255</td><td>0.27155096</td><td>0.2924264900</td></tr>\n",
       "\t<tr><th scope=row>眼</th><td>0.30680085</td><td>0.32782103</td><td>0.3653781208</td></tr>\n",
       "\t<tr><th scope=row>顔</th><td>0.33610720</td><td>0.31271048</td><td>0.3511823129</td></tr>\n",
       "\t<tr><th scope=row>急</th><td>0.48142921</td><td>0.15900066</td><td>0.3595701250</td></tr>\n",
       "\t<tr><th scope=row>兄</th><td>0.01863941</td><td>0.96495321</td><td>0.0164073817</td></tr>\n",
       "\t<tr><th scope=row>言葉</th><td>0.34264483</td><td>0.39081271</td><td>0.2665424579</td></tr>\n",
       "\t<tr><th scope=row>後</th><td>0.30797276</td><td>0.33056902</td><td>0.3614582208</td></tr>\n",
       "\t<tr><th scope=row>口</th><td>0.24468521</td><td>0.49574866</td><td>0.2595661371</td></tr>\n",
       "\t<tr><th scope=row>妻</th><td>0.15209287</td><td>0.00000000</td><td>0.8479071254</td></tr>\n",
       "\t<tr><th scope=row>三</th><td>0.39173065</td><td>0.27843986</td><td>0.3298294817</td></tr>\n",
       "\t<tr><th scope=row>私</th><td>0.32625710</td><td>0.27723911</td><td>0.3965037879</td></tr>\n",
       "\t<tr><th scope=row>自分</th><td>0.21317084</td><td>0.33074980</td><td>0.4560793572</td></tr>\n",
       "\t<tr><th scope=row>室</th><td>0.05910457</td><td>0.14314923</td><td>0.7977461961</td></tr>\n",
       "\t<tr><th scope=row>手</th><td>0.36532962</td><td>0.30415538</td><td>0.3305150002</td></tr>\n",
       "\t<tr><th scope=row>手紙</th><td>0.13436297</td><td>0.73220051</td><td>0.1334365260</td></tr>\n",
       "\t<tr><th scope=row>叔父</th><td>0.02410127</td><td>0.00000000</td><td>0.9758987342</td></tr>\n",
       "\t<tr><th scope=row>所</th><td>0.23109449</td><td>0.47224928</td><td>0.2966562280</td></tr>\n",
       "\t<tr><th scope=row>女</th><td>0.33558299</td><td>0.15239444</td><td>0.5120225645</td></tr>\n",
       "\t<tr><th scope=row>心</th><td>0.25490387</td><td>0.29633680</td><td>0.4487593325</td></tr>\n",
       "\t<tr><th scope=row>心持</th><td>0.25523748</td><td>0.27045215</td><td>0.4743103681</td></tr>\n",
       "\t<tr><th scope=row>人間</th><td>0.48519174</td><td>0.24787636</td><td>0.2669319034</td></tr>\n",
       "\t<tr><th scope=row>声</th><td>0.20473394</td><td>0.46486735</td><td>0.3303987146</td></tr>\n",
       "\t<tr><th scope=row>先</th><td>0.42786806</td><td>0.23316336</td><td>0.3389685817</td></tr>\n",
       "\t<tr><th scope=row>先生</th><td>0.76658113</td><td>0.23253507</td><td>0.0008838044</td></tr>\n",
       "\t<tr><th scope=row>卒業</th><td>0.22271206</td><td>0.71920119</td><td>0.0580867443</td></tr>\n",
       "\t<tr><th scope=row>態度</th><td>0.35028144</td><td>0.23860392</td><td>0.4111146342</td></tr>\n",
       "\t<tr><th scope=row>宅</th><td>0.38953642</td><td>0.22642649</td><td>0.3840370861</td></tr>\n",
       "\t<tr><th scope=row>男</th><td>0.37976521</td><td>0.03832409</td><td>0.5819106986</td></tr>\n",
       "\t<tr><th scope=row>通り</th><td>0.23561755</td><td>0.33072197</td><td>0.4336604817</td></tr>\n",
       "\t<tr><th scope=row>的</th><td>0.37580323</td><td>0.12799440</td><td>0.4962023728</td></tr>\n",
       "\t<tr><th scope=row>東京</th><td>0.16738406</td><td>0.60809758</td><td>0.2245183556</td></tr>\n",
       "\t<tr><th scope=row>頭</th><td>0.35549987</td><td>0.32287813</td><td>0.3216219947</td></tr>\n",
       "\t<tr><th scope=row>日</th><td>0.43645598</td><td>0.30741649</td><td>0.2561275305</td></tr>\n",
       "\t<tr><th scope=row>彼</th><td>0.05751026</td><td>0.01899380</td><td>0.9234959353</td></tr>\n",
       "\t<tr><th scope=row>病気</th><td>0.35317773</td><td>0.57280193</td><td>0.0740203425</td></tr>\n",
       "\t<tr><th scope=row>父</th><td>0.11810925</td><td>0.83135176</td><td>0.0505389887</td></tr>\n",
       "\t<tr><th scope=row>返事</th><td>0.23720748</td><td>0.55399014</td><td>0.2088023828</td></tr>\n",
       "\t<tr><th scope=row>母</th><td>0.08967093</td><td>0.82182841</td><td>0.0885006627</td></tr>\n",
       "\t<tr><th scope=row>問題</th><td>0.57032467</td><td>0.04143920</td><td>0.3882361361</td></tr>\n",
       "\t<tr><th scope=row>様子</th><td>0.26293236</td><td>0.44775918</td><td>0.2893084547</td></tr>\n",
       "\t<tr><th scope=row>話</th><td>0.22782562</td><td>0.26603956</td><td>0.5061348152</td></tr>\n",
       "</tbody>\n",
       "</table>\n"
      ],
      "text/latex": [
       "A matrix: 49 × 3 of type dbl\n",
       "\\begin{tabular}{r|lll}\n",
       "  & 第一部 & 第二部 & 第三部\\\\\n",
       "\\hline\n",
       "\tあなた & 0.46371111 & 0.12033131 & 0.4159575841\\\\\n",
       "\tうち & 0.35052783 & 0.42941897 & 0.2200532004\\\\\n",
       "\tお嬢さん & 0.00000000 & 0.00000000 & 1.0000000000\\\\\n",
       "\tところ & 0.25599707 & 0.37782226 & 0.3661806762\\\\\n",
       "\t意味 & 0.39837544 & 0.24121288 & 0.3604116781\\\\\n",
       "\t奥さん & 0.58671035 & 0.04076617 & 0.3725234863\\\\\n",
       "\t家 & 0.30464124 & 0.28775390 & 0.4076048587\\\\\n",
       "\t外 & 0.35956677 & 0.24063188 & 0.3998013504\\\\\n",
       "\t間 & 0.43602255 & 0.27155096 & 0.2924264900\\\\\n",
       "\t眼 & 0.30680085 & 0.32782103 & 0.3653781208\\\\\n",
       "\t顔 & 0.33610720 & 0.31271048 & 0.3511823129\\\\\n",
       "\t急 & 0.48142921 & 0.15900066 & 0.3595701250\\\\\n",
       "\t兄 & 0.01863941 & 0.96495321 & 0.0164073817\\\\\n",
       "\t言葉 & 0.34264483 & 0.39081271 & 0.2665424579\\\\\n",
       "\t後 & 0.30797276 & 0.33056902 & 0.3614582208\\\\\n",
       "\t口 & 0.24468521 & 0.49574866 & 0.2595661371\\\\\n",
       "\t妻 & 0.15209287 & 0.00000000 & 0.8479071254\\\\\n",
       "\t三 & 0.39173065 & 0.27843986 & 0.3298294817\\\\\n",
       "\t私 & 0.32625710 & 0.27723911 & 0.3965037879\\\\\n",
       "\t自分 & 0.21317084 & 0.33074980 & 0.4560793572\\\\\n",
       "\t室 & 0.05910457 & 0.14314923 & 0.7977461961\\\\\n",
       "\t手 & 0.36532962 & 0.30415538 & 0.3305150002\\\\\n",
       "\t手紙 & 0.13436297 & 0.73220051 & 0.1334365260\\\\\n",
       "\t叔父 & 0.02410127 & 0.00000000 & 0.9758987342\\\\\n",
       "\t所 & 0.23109449 & 0.47224928 & 0.2966562280\\\\\n",
       "\t女 & 0.33558299 & 0.15239444 & 0.5120225645\\\\\n",
       "\t心 & 0.25490387 & 0.29633680 & 0.4487593325\\\\\n",
       "\t心持 & 0.25523748 & 0.27045215 & 0.4743103681\\\\\n",
       "\t人間 & 0.48519174 & 0.24787636 & 0.2669319034\\\\\n",
       "\t声 & 0.20473394 & 0.46486735 & 0.3303987146\\\\\n",
       "\t先 & 0.42786806 & 0.23316336 & 0.3389685817\\\\\n",
       "\t先生 & 0.76658113 & 0.23253507 & 0.0008838044\\\\\n",
       "\t卒業 & 0.22271206 & 0.71920119 & 0.0580867443\\\\\n",
       "\t態度 & 0.35028144 & 0.23860392 & 0.4111146342\\\\\n",
       "\t宅 & 0.38953642 & 0.22642649 & 0.3840370861\\\\\n",
       "\t男 & 0.37976521 & 0.03832409 & 0.5819106986\\\\\n",
       "\t通り & 0.23561755 & 0.33072197 & 0.4336604817\\\\\n",
       "\t的 & 0.37580323 & 0.12799440 & 0.4962023728\\\\\n",
       "\t東京 & 0.16738406 & 0.60809758 & 0.2245183556\\\\\n",
       "\t頭 & 0.35549987 & 0.32287813 & 0.3216219947\\\\\n",
       "\t日 & 0.43645598 & 0.30741649 & 0.2561275305\\\\\n",
       "\t彼 & 0.05751026 & 0.01899380 & 0.9234959353\\\\\n",
       "\t病気 & 0.35317773 & 0.57280193 & 0.0740203425\\\\\n",
       "\t父 & 0.11810925 & 0.83135176 & 0.0505389887\\\\\n",
       "\t返事 & 0.23720748 & 0.55399014 & 0.2088023828\\\\\n",
       "\t母 & 0.08967093 & 0.82182841 & 0.0885006627\\\\\n",
       "\t問題 & 0.57032467 & 0.04143920 & 0.3882361361\\\\\n",
       "\t様子 & 0.26293236 & 0.44775918 & 0.2893084547\\\\\n",
       "\t話 & 0.22782562 & 0.26603956 & 0.5061348152\\\\\n",
       "\\end{tabular}\n"
      ],
      "text/markdown": [
       "\n",
       "A matrix: 49 × 3 of type dbl\n",
       "\n",
       "| <!--/--> | 第一部 | 第二部 | 第三部 |\n",
       "|---|---|---|---|\n",
       "| あなた | 0.46371111 | 0.12033131 | 0.4159575841 |\n",
       "| うち | 0.35052783 | 0.42941897 | 0.2200532004 |\n",
       "| お嬢さん | 0.00000000 | 0.00000000 | 1.0000000000 |\n",
       "| ところ | 0.25599707 | 0.37782226 | 0.3661806762 |\n",
       "| 意味 | 0.39837544 | 0.24121288 | 0.3604116781 |\n",
       "| 奥さん | 0.58671035 | 0.04076617 | 0.3725234863 |\n",
       "| 家 | 0.30464124 | 0.28775390 | 0.4076048587 |\n",
       "| 外 | 0.35956677 | 0.24063188 | 0.3998013504 |\n",
       "| 間 | 0.43602255 | 0.27155096 | 0.2924264900 |\n",
       "| 眼 | 0.30680085 | 0.32782103 | 0.3653781208 |\n",
       "| 顔 | 0.33610720 | 0.31271048 | 0.3511823129 |\n",
       "| 急 | 0.48142921 | 0.15900066 | 0.3595701250 |\n",
       "| 兄 | 0.01863941 | 0.96495321 | 0.0164073817 |\n",
       "| 言葉 | 0.34264483 | 0.39081271 | 0.2665424579 |\n",
       "| 後 | 0.30797276 | 0.33056902 | 0.3614582208 |\n",
       "| 口 | 0.24468521 | 0.49574866 | 0.2595661371 |\n",
       "| 妻 | 0.15209287 | 0.00000000 | 0.8479071254 |\n",
       "| 三 | 0.39173065 | 0.27843986 | 0.3298294817 |\n",
       "| 私 | 0.32625710 | 0.27723911 | 0.3965037879 |\n",
       "| 自分 | 0.21317084 | 0.33074980 | 0.4560793572 |\n",
       "| 室 | 0.05910457 | 0.14314923 | 0.7977461961 |\n",
       "| 手 | 0.36532962 | 0.30415538 | 0.3305150002 |\n",
       "| 手紙 | 0.13436297 | 0.73220051 | 0.1334365260 |\n",
       "| 叔父 | 0.02410127 | 0.00000000 | 0.9758987342 |\n",
       "| 所 | 0.23109449 | 0.47224928 | 0.2966562280 |\n",
       "| 女 | 0.33558299 | 0.15239444 | 0.5120225645 |\n",
       "| 心 | 0.25490387 | 0.29633680 | 0.4487593325 |\n",
       "| 心持 | 0.25523748 | 0.27045215 | 0.4743103681 |\n",
       "| 人間 | 0.48519174 | 0.24787636 | 0.2669319034 |\n",
       "| 声 | 0.20473394 | 0.46486735 | 0.3303987146 |\n",
       "| 先 | 0.42786806 | 0.23316336 | 0.3389685817 |\n",
       "| 先生 | 0.76658113 | 0.23253507 | 0.0008838044 |\n",
       "| 卒業 | 0.22271206 | 0.71920119 | 0.0580867443 |\n",
       "| 態度 | 0.35028144 | 0.23860392 | 0.4111146342 |\n",
       "| 宅 | 0.38953642 | 0.22642649 | 0.3840370861 |\n",
       "| 男 | 0.37976521 | 0.03832409 | 0.5819106986 |\n",
       "| 通り | 0.23561755 | 0.33072197 | 0.4336604817 |\n",
       "| 的 | 0.37580323 | 0.12799440 | 0.4962023728 |\n",
       "| 東京 | 0.16738406 | 0.60809758 | 0.2245183556 |\n",
       "| 頭 | 0.35549987 | 0.32287813 | 0.3216219947 |\n",
       "| 日 | 0.43645598 | 0.30741649 | 0.2561275305 |\n",
       "| 彼 | 0.05751026 | 0.01899380 | 0.9234959353 |\n",
       "| 病気 | 0.35317773 | 0.57280193 | 0.0740203425 |\n",
       "| 父 | 0.11810925 | 0.83135176 | 0.0505389887 |\n",
       "| 返事 | 0.23720748 | 0.55399014 | 0.2088023828 |\n",
       "| 母 | 0.08967093 | 0.82182841 | 0.0885006627 |\n",
       "| 問題 | 0.57032467 | 0.04143920 | 0.3882361361 |\n",
       "| 様子 | 0.26293236 | 0.44775918 | 0.2893084547 |\n",
       "| 話 | 0.22782562 | 0.26603956 | 0.5061348152 |\n",
       "\n"
      ],
      "text/plain": [
       "         第一部     第二部     第三部      \n",
       "あなた   0.46371111 0.12033131 0.4159575841\n",
       "うち     0.35052783 0.42941897 0.2200532004\n",
       "お嬢さん 0.00000000 0.00000000 1.0000000000\n",
       "ところ   0.25599707 0.37782226 0.3661806762\n",
       "意味     0.39837544 0.24121288 0.3604116781\n",
       "奥さん   0.58671035 0.04076617 0.3725234863\n",
       "家       0.30464124 0.28775390 0.4076048587\n",
       "外       0.35956677 0.24063188 0.3998013504\n",
       "間       0.43602255 0.27155096 0.2924264900\n",
       "眼       0.30680085 0.32782103 0.3653781208\n",
       "顔       0.33610720 0.31271048 0.3511823129\n",
       "急       0.48142921 0.15900066 0.3595701250\n",
       "兄       0.01863941 0.96495321 0.0164073817\n",
       "言葉     0.34264483 0.39081271 0.2665424579\n",
       "後       0.30797276 0.33056902 0.3614582208\n",
       "口       0.24468521 0.49574866 0.2595661371\n",
       "妻       0.15209287 0.00000000 0.8479071254\n",
       "三       0.39173065 0.27843986 0.3298294817\n",
       "私       0.32625710 0.27723911 0.3965037879\n",
       "自分     0.21317084 0.33074980 0.4560793572\n",
       "室       0.05910457 0.14314923 0.7977461961\n",
       "手       0.36532962 0.30415538 0.3305150002\n",
       "手紙     0.13436297 0.73220051 0.1334365260\n",
       "叔父     0.02410127 0.00000000 0.9758987342\n",
       "所       0.23109449 0.47224928 0.2966562280\n",
       "女       0.33558299 0.15239444 0.5120225645\n",
       "心       0.25490387 0.29633680 0.4487593325\n",
       "心持     0.25523748 0.27045215 0.4743103681\n",
       "人間     0.48519174 0.24787636 0.2669319034\n",
       "声       0.20473394 0.46486735 0.3303987146\n",
       "先       0.42786806 0.23316336 0.3389685817\n",
       "先生     0.76658113 0.23253507 0.0008838044\n",
       "卒業     0.22271206 0.71920119 0.0580867443\n",
       "態度     0.35028144 0.23860392 0.4111146342\n",
       "宅       0.38953642 0.22642649 0.3840370861\n",
       "男       0.37976521 0.03832409 0.5819106986\n",
       "通り     0.23561755 0.33072197 0.4336604817\n",
       "的       0.37580323 0.12799440 0.4962023728\n",
       "東京     0.16738406 0.60809758 0.2245183556\n",
       "頭       0.35549987 0.32287813 0.3216219947\n",
       "日       0.43645598 0.30741649 0.2561275305\n",
       "彼       0.05751026 0.01899380 0.9234959353\n",
       "病気     0.35317773 0.57280193 0.0740203425\n",
       "父       0.11810925 0.83135176 0.0505389887\n",
       "返事     0.23720748 0.55399014 0.2088023828\n",
       "母       0.08967093 0.82182841 0.0885006627\n",
       "問題     0.57032467 0.04143920 0.3882361361\n",
       "様子     0.26293236 0.44775918 0.2893084547\n",
       "話       0.22782562 0.26603956 0.5061348152"
      ]
     },
     "metadata": {},
     "output_type": "display_data"
    }
   ],
   "source": [
    "# 出現確率の比をとる\n",
    "# 各部の出現確率 / (第一部の出現確率＋第二部の出現確率＋第三部の出現確率)\n",
    "(ratio_t / colSums(ratio))"
   ]
  },
  {
   "cell_type": "code",
   "execution_count": 28,
   "metadata": {},
   "outputs": [],
   "source": [
    "result = (ratio_t / colSums(ratio))  %>% prcomp()"
   ]
  },
  {
   "cell_type": "code",
   "execution_count": 29,
   "metadata": {},
   "outputs": [
    {
     "data": {
      "image/png": "[encoded data removed]",
      "text/plain": [
       "plot without title"
      ]
     },
     "metadata": {
      "image/png": {
       "height": 420,
       "width": 420
      }
     },
     "output_type": "display_data"
    }
   ],
   "source": [
    "biplot(result)"
   ]
  },
  {
   "cell_type": "code",
   "execution_count": 30,
   "metadata": {},
   "outputs": [
    {
     "name": "stdout",
     "output_type": "stream",
     "text": [
      "to make data frame\n",
      "\n"
     ]
    }
   ],
   "source": [
    "# 名詞のデータセット\n",
    "count_noun = docMatrixDF(parts[,'text'], pos=c('名詞'), dic='dict/kokoro_sjis.dic')"
   ]
  },
  {
   "cell_type": "code",
   "execution_count": 31,
   "metadata": {},
   "outputs": [
    {
     "data": {
      "text/html": [
       "<table>\n",
       "<caption>A matrix: 3543 × 3 of type int</caption>\n",
       "<thead>\n",
       "\t<tr><th></th><th scope=col>ROW.1</th><th scope=col>ROW.2</th><th scope=col>ROW.3</th></tr>\n",
       "</thead>\n",
       "<tbody>\n",
       "\t<tr><th scope=row>Ｋ</th><td> 0</td><td> 0</td><td>408</td></tr>\n",
       "\t<tr><th scope=row>あい</th><td> 0</td><td> 1</td><td>  0</td></tr>\n",
       "\t<tr><th scope=row>あか</th><td> 1</td><td> 0</td><td>  0</td></tr>\n",
       "\t<tr><th scope=row>あからさま</th><td> 0</td><td> 1</td><td>  0</td></tr>\n",
       "\t<tr><th scope=row>あくび</th><td> 1</td><td> 0</td><td>  0</td></tr>\n",
       "\t<tr><th scope=row>あすこ</th><td> 3</td><td> 0</td><td>  0</td></tr>\n",
       "\t<tr><th scope=row>あそこ</th><td> 0</td><td> 0</td><td>  1</td></tr>\n",
       "\t<tr><th scope=row>あたり</th><td> 1</td><td> 0</td><td>  1</td></tr>\n",
       "\t<tr><th scope=row>あちら</th><td> 2</td><td> 0</td><td>  2</td></tr>\n",
       "\t<tr><th scope=row>あて</th><td> 0</td><td> 1</td><td>  0</td></tr>\n",
       "\t<tr><th scope=row>あと</th><td> 8</td><td> 3</td><td>  5</td></tr>\n",
       "\t<tr><th scope=row>あなた</th><td>70</td><td>10</td><td>107</td></tr>\n",
       "\t<tr><th scope=row>あの世</th><td> 1</td><td> 0</td><td>  0</td></tr>\n",
       "\t<tr><th scope=row>あまり</th><td> 1</td><td> 0</td><td>  1</td></tr>\n",
       "\t<tr><th scope=row>あれ</th><td> 1</td><td> 7</td><td>  3</td></tr>\n",
       "\t<tr><th scope=row>あれこれ</th><td> 0</td><td> 1</td><td>  0</td></tr>\n",
       "\t<tr><th scope=row>あれだけ</th><td> 0</td><td> 0</td><td>  1</td></tr>\n",
       "\t<tr><th scope=row>い</th><td> 2</td><td> 0</td><td>  1</td></tr>\n",
       "\t<tr><th scope=row>いおう</th><td> 1</td><td> 0</td><td>  1</td></tr>\n",
       "\t<tr><th scope=row>いかが</th><td> 1</td><td> 0</td><td>  0</td></tr>\n",
       "\t<tr><th scope=row>いくつ</th><td> 2</td><td> 1</td><td>  0</td></tr>\n",
       "\t<tr><th scope=row>いくら</th><td> 2</td><td> 1</td><td>  6</td></tr>\n",
       "\t<tr><th scope=row>いずれ</th><td> 5</td><td> 0</td><td>  0</td></tr>\n",
       "\t<tr><th scope=row>いた事</th><td> 0</td><td> 0</td><td>  1</td></tr>\n",
       "\t<tr><th scope=row>いち</th><td> 1</td><td> 1</td><td>  0</td></tr>\n",
       "\t<tr><th scope=row>いっしょ</th><td>10</td><td> 5</td><td> 25</td></tr>\n",
       "\t<tr><th scope=row>いっぱい</th><td> 1</td><td> 0</td><td>  0</td></tr>\n",
       "\t<tr><th scope=row>いつ</th><td>10</td><td> 9</td><td> 20</td></tr>\n",
       "\t<tr><th scope=row>いつか</th><td> 4</td><td> 0</td><td>  3</td></tr>\n",
       "\t<tr><th scope=row>いびつ</th><td> 0</td><td> 0</td><td>  1</td></tr>\n",
       "\t<tr><th scope=row>...</th><td>...</td><td>...</td><td>...</td></tr>\n",
       "\t<tr><th scope=row>蝨</th><td>0</td><td>0</td><td>1</td></tr>\n",
       "\t<tr><th scope=row>蠅</th><td>1</td><td>2</td><td>1</td></tr>\n",
       "\t<tr><th scope=row>蟇</th><td>1</td><td>0</td><td>0</td></tr>\n",
       "\t<tr><th scope=row>袂</th><td>1</td><td>2</td><td>0</td></tr>\n",
       "\t<tr><th scope=row>裹</th><td>1</td><td>0</td><td>0</td></tr>\n",
       "\t<tr><th scope=row>襯衣</th><td>0</td><td>0</td><td>1</td></tr>\n",
       "\t<tr><th scope=row>覘</th><td>0</td><td>0</td><td>1</td></tr>\n",
       "\t<tr><th scope=row>訐</th><td>2</td><td>0</td><td>0</td></tr>\n",
       "\t<tr><th scope=row>豌豆</th><td>1</td><td>0</td><td>0</td></tr>\n",
       "\t<tr><th scope=row>贅沢</th><td>1</td><td>0</td><td>1</td></tr>\n",
       "\t<tr><th scope=row>赧</th><td>0</td><td>0</td><td>1</td></tr>\n",
       "\t<tr><th scope=row>跟</th><td>1</td><td>0</td><td>1</td></tr>\n",
       "\t<tr><th scope=row>踵</th><td>1</td><td>0</td><td>0</td></tr>\n",
       "\t<tr><th scope=row>躊躇</th><td>1</td><td>2</td><td>5</td></tr>\n",
       "\t<tr><th scope=row>躑躅</th><td>3</td><td>0</td><td>0</td></tr>\n",
       "\t<tr><th scope=row>躾</th><td>0</td><td>0</td><td>1</td></tr>\n",
       "\t<tr><th scope=row>迹</th><td>0</td><td>0</td><td>2</td></tr>\n",
       "\t<tr><th scope=row>邂逅</th><td>0</td><td>0</td><td>1</td></tr>\n",
       "\t<tr><th scope=row>邯鄲</th><td>0</td><td>0</td><td>1</td></tr>\n",
       "\t<tr><th scope=row>閻魔</th><td>0</td><td>0</td><td>1</td></tr>\n",
       "\t<tr><th scope=row>闊達</th><td>0</td><td>0</td><td>1</td></tr>\n",
       "\t<tr><th scope=row>靠</th><td>1</td><td>0</td><td>0</td></tr>\n",
       "\t<tr><th scope=row>頸</th><td>0</td><td>0</td><td>2</td></tr>\n",
       "\t<tr><th scope=row>頸筋</th><td>0</td><td>0</td><td>1</td></tr>\n",
       "\t<tr><th scope=row>頸動</th><td>0</td><td>0</td><td>1</td></tr>\n",
       "\t<tr><th scope=row>顋</th><td>0</td><td>0</td><td>2</td></tr>\n",
       "\t<tr><th scope=row>顫</th><td>3</td><td>1</td><td>4</td></tr>\n",
       "\t<tr><th scope=row>髯</th><td>0</td><td>0</td><td>1</td></tr>\n",
       "\t<tr><th scope=row>鶯</th><td>1</td><td>0</td><td>0</td></tr>\n",
       "\t<tr><th scope=row>鹹</th><td>1</td><td>0</td><td>0</td></tr>\n",
       "</tbody>\n",
       "</table>\n"
      ],
      "text/latex": [
       "A matrix: 3543 × 3 of type int\n",
       "\\begin{tabular}{r|lll}\n",
       "  & ROW.1 & ROW.2 & ROW.3\\\\\n",
       "\\hline\n",
       "\tＫ &  0 &  0 & 408\\\\\n",
       "\tあい &  0 &  1 &   0\\\\\n",
       "\tあか &  1 &  0 &   0\\\\\n",
       "\tあからさま &  0 &  1 &   0\\\\\n",
       "\tあくび &  1 &  0 &   0\\\\\n",
       "\tあすこ &  3 &  0 &   0\\\\\n",
       "\tあそこ &  0 &  0 &   1\\\\\n",
       "\tあたり &  1 &  0 &   1\\\\\n",
       "\tあちら &  2 &  0 &   2\\\\\n",
       "\tあて &  0 &  1 &   0\\\\\n",
       "\tあと &  8 &  3 &   5\\\\\n",
       "\tあなた & 70 & 10 & 107\\\\\n",
       "\tあの世 &  1 &  0 &   0\\\\\n",
       "\tあまり &  1 &  0 &   1\\\\\n",
       "\tあれ &  1 &  7 &   3\\\\\n",
       "\tあれこれ &  0 &  1 &   0\\\\\n",
       "\tあれだけ &  0 &  0 &   1\\\\\n",
       "\tい &  2 &  0 &   1\\\\\n",
       "\tいおう &  1 &  0 &   1\\\\\n",
       "\tいかが &  1 &  0 &   0\\\\\n",
       "\tいくつ &  2 &  1 &   0\\\\\n",
       "\tいくら &  2 &  1 &   6\\\\\n",
       "\tいずれ &  5 &  0 &   0\\\\\n",
       "\tいた事 &  0 &  0 &   1\\\\\n",
       "\tいち &  1 &  1 &   0\\\\\n",
       "\tいっしょ & 10 &  5 &  25\\\\\n",
       "\tいっぱい &  1 &  0 &   0\\\\\n",
       "\tいつ & 10 &  9 &  20\\\\\n",
       "\tいつか &  4 &  0 &   3\\\\\n",
       "\tいびつ &  0 &  0 &   1\\\\\n",
       "\t... & ... & ... & ...\\\\\n",
       "\t蝨 & 0 & 0 & 1\\\\\n",
       "\t蠅 & 1 & 2 & 1\\\\\n",
       "\t蟇 & 1 & 0 & 0\\\\\n",
       "\t袂 & 1 & 2 & 0\\\\\n",
       "\t裹 & 1 & 0 & 0\\\\\n",
       "\t襯衣 & 0 & 0 & 1\\\\\n",
       "\t覘 & 0 & 0 & 1\\\\\n",
       "\t訐 & 2 & 0 & 0\\\\\n",
       "\t豌豆 & 1 & 0 & 0\\\\\n",
       "\t贅沢 & 1 & 0 & 1\\\\\n",
       "\t赧 & 0 & 0 & 1\\\\\n",
       "\t跟 & 1 & 0 & 1\\\\\n",
       "\t踵 & 1 & 0 & 0\\\\\n",
       "\t躊躇 & 1 & 2 & 5\\\\\n",
       "\t躑躅 & 3 & 0 & 0\\\\\n",
       "\t躾 & 0 & 0 & 1\\\\\n",
       "\t迹 & 0 & 0 & 2\\\\\n",
       "\t邂逅 & 0 & 0 & 1\\\\\n",
       "\t邯鄲 & 0 & 0 & 1\\\\\n",
       "\t閻魔 & 0 & 0 & 1\\\\\n",
       "\t闊達 & 0 & 0 & 1\\\\\n",
       "\t靠 & 1 & 0 & 0\\\\\n",
       "\t頸 & 0 & 0 & 2\\\\\n",
       "\t頸筋 & 0 & 0 & 1\\\\\n",
       "\t頸動 & 0 & 0 & 1\\\\\n",
       "\t顋 & 0 & 0 & 2\\\\\n",
       "\t顫 & 3 & 1 & 4\\\\\n",
       "\t髯 & 0 & 0 & 1\\\\\n",
       "\t鶯 & 1 & 0 & 0\\\\\n",
       "\t鹹 & 1 & 0 & 0\\\\\n",
       "\\end{tabular}\n"
      ],
      "text/markdown": [
       "\n",
       "A matrix: 3543 × 3 of type int\n",
       "\n",
       "| <!--/--> | ROW.1 | ROW.2 | ROW.3 |\n",
       "|---|---|---|---|\n",
       "| Ｋ |  0 |  0 | 408 |\n",
       "| あい |  0 |  1 |   0 |\n",
       "| あか |  1 |  0 |   0 |\n",
       "| あからさま |  0 |  1 |   0 |\n",
       "| あくび |  1 |  0 |   0 |\n",
       "| あすこ |  3 |  0 |   0 |\n",
       "| あそこ |  0 |  0 |   1 |\n",
       "| あたり |  1 |  0 |   1 |\n",
       "| あちら |  2 |  0 |   2 |\n",
       "| あて |  0 |  1 |   0 |\n",
       "| あと |  8 |  3 |   5 |\n",
       "| あなた | 70 | 10 | 107 |\n",
       "| あの世 |  1 |  0 |   0 |\n",
       "| あまり |  1 |  0 |   1 |\n",
       "| あれ |  1 |  7 |   3 |\n",
       "| あれこれ |  0 |  1 |   0 |\n",
       "| あれだけ |  0 |  0 |   1 |\n",
       "| い |  2 |  0 |   1 |\n",
       "| いおう |  1 |  0 |   1 |\n",
       "| いかが |  1 |  0 |   0 |\n",
       "| いくつ |  2 |  1 |   0 |\n",
       "| いくら |  2 |  1 |   6 |\n",
       "| いずれ |  5 |  0 |   0 |\n",
       "| いた事 |  0 |  0 |   1 |\n",
       "| いち |  1 |  1 |   0 |\n",
       "| いっしょ | 10 |  5 |  25 |\n",
       "| いっぱい |  1 |  0 |   0 |\n",
       "| いつ | 10 |  9 |  20 |\n",
       "| いつか |  4 |  0 |   3 |\n",
       "| いびつ |  0 |  0 |   1 |\n",
       "| ... | ... | ... | ... |\n",
       "| 蝨 | 0 | 0 | 1 |\n",
       "| 蠅 | 1 | 2 | 1 |\n",
       "| 蟇 | 1 | 0 | 0 |\n",
       "| 袂 | 1 | 2 | 0 |\n",
       "| 裹 | 1 | 0 | 0 |\n",
       "| 襯衣 | 0 | 0 | 1 |\n",
       "| 覘 | 0 | 0 | 1 |\n",
       "| 訐 | 2 | 0 | 0 |\n",
       "| 豌豆 | 1 | 0 | 0 |\n",
       "| 贅沢 | 1 | 0 | 1 |\n",
       "| 赧 | 0 | 0 | 1 |\n",
       "| 跟 | 1 | 0 | 1 |\n",
       "| 踵 | 1 | 0 | 0 |\n",
       "| 躊躇 | 1 | 2 | 5 |\n",
       "| 躑躅 | 3 | 0 | 0 |\n",
       "| 躾 | 0 | 0 | 1 |\n",
       "| 迹 | 0 | 0 | 2 |\n",
       "| 邂逅 | 0 | 0 | 1 |\n",
       "| 邯鄲 | 0 | 0 | 1 |\n",
       "| 閻魔 | 0 | 0 | 1 |\n",
       "| 闊達 | 0 | 0 | 1 |\n",
       "| 靠 | 1 | 0 | 0 |\n",
       "| 頸 | 0 | 0 | 2 |\n",
       "| 頸筋 | 0 | 0 | 1 |\n",
       "| 頸動 | 0 | 0 | 1 |\n",
       "| 顋 | 0 | 0 | 2 |\n",
       "| 顫 | 3 | 1 | 4 |\n",
       "| 髯 | 0 | 0 | 1 |\n",
       "| 鶯 | 1 | 0 | 0 |\n",
       "| 鹹 | 1 | 0 | 0 |\n",
       "\n"
      ],
      "text/plain": [
       "           ROW.1 ROW.2 ROW.3\n",
       "Ｋ          0     0    408  \n",
       "あい        0     1      0  \n",
       "あか        1     0      0  \n",
       "あからさま  0     1      0  \n",
       "あくび      1     0      0  \n",
       "あすこ      3     0      0  \n",
       "あそこ      0     0      1  \n",
       "あたり      1     0      1  \n",
       "あちら      2     0      2  \n",
       "あて        0     1      0  \n",
       "あと        8     3      5  \n",
       "あなた     70    10    107  \n",
       "あの世      1     0      0  \n",
       "あまり      1     0      1  \n",
       "あれ        1     7      3  \n",
       "あれこれ    0     1      0  \n",
       "あれだけ    0     0      1  \n",
       "い          2     0      1  \n",
       "いおう      1     0      1  \n",
       "いかが      1     0      0  \n",
       "いくつ      2     1      0  \n",
       "いくら      2     1      6  \n",
       "いずれ      5     0      0  \n",
       "いた事      0     0      1  \n",
       "いち        1     1      0  \n",
       "いっしょ   10     5     25  \n",
       "いっぱい    1     0      0  \n",
       "いつ       10     9     20  \n",
       "いつか      4     0      3  \n",
       "いびつ      0     0      1  \n",
       "...        ...   ...   ...  \n",
       "蝨         0     0     1    \n",
       "蠅         1     2     1    \n",
       "蟇         1     0     0    \n",
       "袂         1     2     0    \n",
       "裹         1     0     0    \n",
       "襯衣       0     0     1    \n",
       "覘         0     0     1    \n",
       "訐         2     0     0    \n",
       "豌豆       1     0     0    \n",
       "贅沢       1     0     1    \n",
       "赧         0     0     1    \n",
       "跟         1     0     1    \n",
       "踵         1     0     0    \n",
       "躊躇       1     2     5    \n",
       "躑躅       3     0     0    \n",
       "躾         0     0     1    \n",
       "迹         0     0     2    \n",
       "邂逅       0     0     1    \n",
       "邯鄲       0     0     1    \n",
       "閻魔       0     0     1    \n",
       "闊達       0     0     1    \n",
       "靠         1     0     0    \n",
       "頸         0     0     2    \n",
       "頸筋       0     0     1    \n",
       "頸動       0     0     1    \n",
       "顋         0     0     2    \n",
       "顫         3     1     4    \n",
       "髯         0     0     1    \n",
       "鶯         1     0     0    \n",
       "鹹         1     0     0    "
      ]
     },
     "metadata": {},
     "output_type": "display_data"
    }
   ],
   "source": [
    "count_noun"
   ]
  },
  {
   "cell_type": "code",
   "execution_count": 32,
   "metadata": {},
   "outputs": [],
   "source": [
    "# 共起分析\n",
    "# バイグラムを使った分析"
   ]
  },
  {
   "cell_type": "code",
   "execution_count": 33,
   "metadata": {},
   "outputs": [
    {
     "name": "stdout",
     "output_type": "stream",
     "text": [
      "number of extracted terms = 28478\n",
      "now making a data frame. wait a while!\n",
      "\n"
     ]
    }
   ],
   "source": [
    "bigram = docDF(parts, col='text', type=1, pos=c('名詞', '動詞', '形容詞'), N=2, nDF=1, dic='dict/kokoro_sjis.dic')"
   ]
  },
  {
   "cell_type": "code",
   "execution_count": 34,
   "metadata": {},
   "outputs": [
    {
     "data": {
      "text/html": [
       "<table>\n",
       "<caption>A data.frame: 6 × 7</caption>\n",
       "<thead>\n",
       "\t<tr><th></th><th scope=col>N1</th><th scope=col>N2</th><th scope=col>POS1</th><th scope=col>POS2</th><th scope=col>Row1</th><th scope=col>Row2</th><th scope=col>Row3</th></tr>\n",
       "\t<tr><th></th><th scope=col>&lt;chr&gt;</th><th scope=col>&lt;chr&gt;</th><th scope=col>&lt;chr&gt;</th><th scope=col>&lt;chr&gt;</th><th scope=col>&lt;int&gt;</th><th scope=col>&lt;int&gt;</th><th scope=col>&lt;int&gt;</th></tr>\n",
       "</thead>\n",
       "<tbody>\n",
       "\t<tr><th scope=row>1</th><td>Ｋ</td><td>いい    </td><td>名詞-形容詞</td><td>固有名詞-自立  </td><td>0</td><td>0</td><td>1</td></tr>\n",
       "\t<tr><th scope=row>2</th><td>Ｋ</td><td>いう    </td><td>名詞-動詞  </td><td>固有名詞-自立  </td><td>0</td><td>0</td><td>4</td></tr>\n",
       "\t<tr><th scope=row>3</th><td>Ｋ</td><td>いっしょ</td><td>名詞-名詞  </td><td>固有名詞-一般  </td><td>0</td><td>0</td><td>1</td></tr>\n",
       "\t<tr><th scope=row>4</th><td>Ｋ</td><td>いつ    </td><td>名詞-名詞  </td><td>固有名詞-代名詞</td><td>0</td><td>0</td><td>1</td></tr>\n",
       "\t<tr><th scope=row>5</th><td>Ｋ</td><td>いる    </td><td>名詞-動詞  </td><td>固有名詞-自立  </td><td>0</td><td>0</td><td>1</td></tr>\n",
       "\t<tr><th scope=row>6</th><td>Ｋ</td><td>お嬢さん</td><td>名詞-名詞  </td><td>固有名詞-一般  </td><td>0</td><td>0</td><td>7</td></tr>\n",
       "</tbody>\n",
       "</table>\n"
      ],
      "text/latex": [
       "A data.frame: 6 × 7\n",
       "\\begin{tabular}{r|lllllll}\n",
       "  & N1 & N2 & POS1 & POS2 & Row1 & Row2 & Row3\\\\\n",
       "  & <chr> & <chr> & <chr> & <chr> & <int> & <int> & <int>\\\\\n",
       "\\hline\n",
       "\t1 & Ｋ & いい     & 名詞-形容詞 & 固有名詞-自立   & 0 & 0 & 1\\\\\n",
       "\t2 & Ｋ & いう     & 名詞-動詞   & 固有名詞-自立   & 0 & 0 & 4\\\\\n",
       "\t3 & Ｋ & いっしょ & 名詞-名詞   & 固有名詞-一般   & 0 & 0 & 1\\\\\n",
       "\t4 & Ｋ & いつ     & 名詞-名詞   & 固有名詞-代名詞 & 0 & 0 & 1\\\\\n",
       "\t5 & Ｋ & いる     & 名詞-動詞   & 固有名詞-自立   & 0 & 0 & 1\\\\\n",
       "\t6 & Ｋ & お嬢さん & 名詞-名詞   & 固有名詞-一般   & 0 & 0 & 7\\\\\n",
       "\\end{tabular}\n"
      ],
      "text/markdown": [
       "\n",
       "A data.frame: 6 × 7\n",
       "\n",
       "| <!--/--> | N1 &lt;chr&gt; | N2 &lt;chr&gt; | POS1 &lt;chr&gt; | POS2 &lt;chr&gt; | Row1 &lt;int&gt; | Row2 &lt;int&gt; | Row3 &lt;int&gt; |\n",
       "|---|---|---|---|---|---|---|---|\n",
       "| 1 | Ｋ | いい     | 名詞-形容詞 | 固有名詞-自立   | 0 | 0 | 1 |\n",
       "| 2 | Ｋ | いう     | 名詞-動詞   | 固有名詞-自立   | 0 | 0 | 4 |\n",
       "| 3 | Ｋ | いっしょ | 名詞-名詞   | 固有名詞-一般   | 0 | 0 | 1 |\n",
       "| 4 | Ｋ | いつ     | 名詞-名詞   | 固有名詞-代名詞 | 0 | 0 | 1 |\n",
       "| 5 | Ｋ | いる     | 名詞-動詞   | 固有名詞-自立   | 0 | 0 | 1 |\n",
       "| 6 | Ｋ | お嬢さん | 名詞-名詞   | 固有名詞-一般   | 0 | 0 | 7 |\n",
       "\n"
      ],
      "text/plain": [
       "  N1 N2       POS1        POS2            Row1 Row2 Row3\n",
       "1 Ｋ いい     名詞-形容詞 固有名詞-自立   0    0    1   \n",
       "2 Ｋ いう     名詞-動詞   固有名詞-自立   0    0    4   \n",
       "3 Ｋ いっしょ 名詞-名詞   固有名詞-一般   0    0    1   \n",
       "4 Ｋ いつ     名詞-名詞   固有名詞-代名詞 0    0    1   \n",
       "5 Ｋ いる     名詞-動詞   固有名詞-自立   0    0    1   \n",
       "6 Ｋ お嬢さん 名詞-名詞   固有名詞-一般   0    0    7   "
      ]
     },
     "metadata": {},
     "output_type": "display_data"
    }
   ],
   "source": [
    "bigram %>% head()"
   ]
  },
  {
   "cell_type": "code",
   "execution_count": 35,
   "metadata": {},
   "outputs": [],
   "source": [
    "# distribution\n",
    "bigram['freq'] = bigram[,5:7] %>% rowSums() "
   ]
  },
  {
   "cell_type": "code",
   "execution_count": 36,
   "metadata": {},
   "outputs": [
    {
     "data": {
      "image/png": "[encoded data removed]",
      "text/plain": [
       "plot without title"
      ]
     },
     "metadata": {
      "image/png": {
       "height": 420,
       "width": 420
      }
     },
     "output_type": "display_data"
    }
   ],
   "source": [
    "bigram[,'freq'] %>% sort(decreasing=T) %>% plot()"
   ]
  },
  {
   "cell_type": "code",
   "execution_count": 37,
   "metadata": {},
   "outputs": [
    {
     "data": {
      "image/png": "[encoded data removed]",
      "text/plain": [
       "plot without title"
      ]
     },
     "metadata": {
      "image/png": {
       "height": 420,
       "width": 420
      }
     },
     "output_type": "display_data"
    }
   ],
   "source": [
    "bigram[,'freq'] %>% sort(decreasing=T) %>% plot(log='xy')"
   ]
  },
  {
   "cell_type": "code",
   "execution_count": 38,
   "metadata": {},
   "outputs": [
    {
     "name": "stderr",
     "output_type": "stream",
     "text": [
      "\n",
      "Attaching package: 'igraph'\n",
      "\n",
      "\n",
      "The following objects are masked from 'package:dplyr':\n",
      "\n",
      "    as_data_frame, groups, union\n",
      "\n",
      "\n",
      "The following objects are masked from 'package:purrr':\n",
      "\n",
      "    compose, simplify\n",
      "\n",
      "\n",
      "The following object is masked from 'package:tidyr':\n",
      "\n",
      "    crossing\n",
      "\n",
      "\n",
      "The following object is masked from 'package:tibble':\n",
      "\n",
      "    as_data_frame\n",
      "\n",
      "\n",
      "The following objects are masked from 'package:stats':\n",
      "\n",
      "    decompose, spectrum\n",
      "\n",
      "\n",
      "The following object is masked from 'package:base':\n",
      "\n",
      "    union\n",
      "\n",
      "\n"
     ]
    }
   ],
   "source": [
    "# igraph: ネットワーク分析用のパッケージ\n",
    "# install.packages('igraph')\n",
    "\n",
    "library('igraph')"
   ]
  },
  {
   "cell_type": "code",
   "execution_count": 39,
   "metadata": {},
   "outputs": [
    {
     "data": {
      "text/html": [
       "<table>\n",
       "<caption>A data.frame: 6 × 8</caption>\n",
       "<thead>\n",
       "\t<tr><th></th><th scope=col>N1</th><th scope=col>N2</th><th scope=col>POS1</th><th scope=col>POS2</th><th scope=col>Row1</th><th scope=col>Row2</th><th scope=col>Row3</th><th scope=col>freq</th></tr>\n",
       "\t<tr><th></th><th scope=col>&lt;chr&gt;</th><th scope=col>&lt;chr&gt;</th><th scope=col>&lt;chr&gt;</th><th scope=col>&lt;chr&gt;</th><th scope=col>&lt;int&gt;</th><th scope=col>&lt;int&gt;</th><th scope=col>&lt;int&gt;</th><th scope=col>&lt;dbl&gt;</th></tr>\n",
       "</thead>\n",
       "<tbody>\n",
       "\t<tr><th scope=row>1</th><td>Ｋ</td><td>いい    </td><td>名詞-形容詞</td><td>固有名詞-自立  </td><td>0</td><td>0</td><td>1</td><td>1</td></tr>\n",
       "\t<tr><th scope=row>2</th><td>Ｋ</td><td>いう    </td><td>名詞-動詞  </td><td>固有名詞-自立  </td><td>0</td><td>0</td><td>4</td><td>4</td></tr>\n",
       "\t<tr><th scope=row>3</th><td>Ｋ</td><td>いっしょ</td><td>名詞-名詞  </td><td>固有名詞-一般  </td><td>0</td><td>0</td><td>1</td><td>1</td></tr>\n",
       "\t<tr><th scope=row>4</th><td>Ｋ</td><td>いつ    </td><td>名詞-名詞  </td><td>固有名詞-代名詞</td><td>0</td><td>0</td><td>1</td><td>1</td></tr>\n",
       "\t<tr><th scope=row>5</th><td>Ｋ</td><td>いる    </td><td>名詞-動詞  </td><td>固有名詞-自立  </td><td>0</td><td>0</td><td>1</td><td>1</td></tr>\n",
       "\t<tr><th scope=row>6</th><td>Ｋ</td><td>お嬢さん</td><td>名詞-名詞  </td><td>固有名詞-一般  </td><td>0</td><td>0</td><td>7</td><td>7</td></tr>\n",
       "</tbody>\n",
       "</table>\n"
      ],
      "text/latex": [
       "A data.frame: 6 × 8\n",
       "\\begin{tabular}{r|llllllll}\n",
       "  & N1 & N2 & POS1 & POS2 & Row1 & Row2 & Row3 & freq\\\\\n",
       "  & <chr> & <chr> & <chr> & <chr> & <int> & <int> & <int> & <dbl>\\\\\n",
       "\\hline\n",
       "\t1 & Ｋ & いい     & 名詞-形容詞 & 固有名詞-自立   & 0 & 0 & 1 & 1\\\\\n",
       "\t2 & Ｋ & いう     & 名詞-動詞   & 固有名詞-自立   & 0 & 0 & 4 & 4\\\\\n",
       "\t3 & Ｋ & いっしょ & 名詞-名詞   & 固有名詞-一般   & 0 & 0 & 1 & 1\\\\\n",
       "\t4 & Ｋ & いつ     & 名詞-名詞   & 固有名詞-代名詞 & 0 & 0 & 1 & 1\\\\\n",
       "\t5 & Ｋ & いる     & 名詞-動詞   & 固有名詞-自立   & 0 & 0 & 1 & 1\\\\\n",
       "\t6 & Ｋ & お嬢さん & 名詞-名詞   & 固有名詞-一般   & 0 & 0 & 7 & 7\\\\\n",
       "\\end{tabular}\n"
      ],
      "text/markdown": [
       "\n",
       "A data.frame: 6 × 8\n",
       "\n",
       "| <!--/--> | N1 &lt;chr&gt; | N2 &lt;chr&gt; | POS1 &lt;chr&gt; | POS2 &lt;chr&gt; | Row1 &lt;int&gt; | Row2 &lt;int&gt; | Row3 &lt;int&gt; | freq &lt;dbl&gt; |\n",
       "|---|---|---|---|---|---|---|---|---|\n",
       "| 1 | Ｋ | いい     | 名詞-形容詞 | 固有名詞-自立   | 0 | 0 | 1 | 1 |\n",
       "| 2 | Ｋ | いう     | 名詞-動詞   | 固有名詞-自立   | 0 | 0 | 4 | 4 |\n",
       "| 3 | Ｋ | いっしょ | 名詞-名詞   | 固有名詞-一般   | 0 | 0 | 1 | 1 |\n",
       "| 4 | Ｋ | いつ     | 名詞-名詞   | 固有名詞-代名詞 | 0 | 0 | 1 | 1 |\n",
       "| 5 | Ｋ | いる     | 名詞-動詞   | 固有名詞-自立   | 0 | 0 | 1 | 1 |\n",
       "| 6 | Ｋ | お嬢さん | 名詞-名詞   | 固有名詞-一般   | 0 | 0 | 7 | 7 |\n",
       "\n"
      ],
      "text/plain": [
       "  N1 N2       POS1        POS2            Row1 Row2 Row3 freq\n",
       "1 Ｋ いい     名詞-形容詞 固有名詞-自立   0    0    1    1   \n",
       "2 Ｋ いう     名詞-動詞   固有名詞-自立   0    0    4    4   \n",
       "3 Ｋ いっしょ 名詞-名詞   固有名詞-一般   0    0    1    1   \n",
       "4 Ｋ いつ     名詞-名詞   固有名詞-代名詞 0    0    1    1   \n",
       "5 Ｋ いる     名詞-動詞   固有名詞-自立   0    0    1    1   \n",
       "6 Ｋ お嬢さん 名詞-名詞   固有名詞-一般   0    0    7    7   "
      ]
     },
     "metadata": {},
     "output_type": "display_data"
    }
   ],
   "source": [
    "bigram %>% head()"
   ]
  },
  {
   "cell_type": "code",
   "execution_count": 40,
   "metadata": {},
   "outputs": [],
   "source": [
    "net = bigram %>%\n",
    "    select(N1, N2, freq=Row1) %>% \n",
    "    filter(freq > 20)  %>%  \n",
    "    filter(! N1 %in% stopwords) %>%\n",
    "    filter(! N2 %in% stopwords)"
   ]
  },
  {
   "cell_type": "code",
   "execution_count": 41,
   "metadata": {},
   "outputs": [
    {
     "data": {
      "text/html": [
       "<table>\n",
       "<caption>A data.frame: 6 × 3</caption>\n",
       "<thead>\n",
       "\t<tr><th></th><th scope=col>N1</th><th scope=col>N2</th><th scope=col>freq</th></tr>\n",
       "\t<tr><th></th><th scope=col>&lt;chr&gt;</th><th scope=col>&lt;chr&gt;</th><th scope=col>&lt;int&gt;</th></tr>\n",
       "</thead>\n",
       "<tbody>\n",
       "\t<tr><th scope=row>853</th><td>いう</td><td>私  </td><td>26</td></tr>\n",
       "\t<tr><th scope=row>1364</th><td>いる</td><td>私  </td><td>54</td></tr>\n",
       "\t<tr><th scope=row>1442</th><td>いる</td><td>先生</td><td>22</td></tr>\n",
       "\t<tr><th scope=row>2687</th><td>する</td><td>いる</td><td>57</td></tr>\n",
       "\t<tr><th scope=row>2907</th><td>する</td><td>私  </td><td>33</td></tr>\n",
       "\t<tr><th scope=row>2980</th><td>する</td><td>先生</td><td>25</td></tr>\n",
       "</tbody>\n",
       "</table>\n"
      ],
      "text/latex": [
       "A data.frame: 6 × 3\n",
       "\\begin{tabular}{r|lll}\n",
       "  & N1 & N2 & freq\\\\\n",
       "  & <chr> & <chr> & <int>\\\\\n",
       "\\hline\n",
       "\t853 & いう & 私   & 26\\\\\n",
       "\t1364 & いる & 私   & 54\\\\\n",
       "\t1442 & いる & 先生 & 22\\\\\n",
       "\t2687 & する & いる & 57\\\\\n",
       "\t2907 & する & 私   & 33\\\\\n",
       "\t2980 & する & 先生 & 25\\\\\n",
       "\\end{tabular}\n"
      ],
      "text/markdown": [
       "\n",
       "A data.frame: 6 × 3\n",
       "\n",
       "| <!--/--> | N1 &lt;chr&gt; | N2 &lt;chr&gt; | freq &lt;int&gt; |\n",
       "|---|---|---|---|\n",
       "| 853 | いう | 私   | 26 |\n",
       "| 1364 | いる | 私   | 54 |\n",
       "| 1442 | いる | 先生 | 22 |\n",
       "| 2687 | する | いる | 57 |\n",
       "| 2907 | する | 私   | 33 |\n",
       "| 2980 | する | 先生 | 25 |\n",
       "\n"
      ],
      "text/plain": [
       "     N1   N2   freq\n",
       "853  いう 私   26  \n",
       "1364 いる 私   54  \n",
       "1442 いる 先生 22  \n",
       "2687 する いる 57  \n",
       "2907 する 私   33  \n",
       "2980 する 先生 25  "
      ]
     },
     "metadata": {},
     "output_type": "display_data"
    }
   ],
   "source": [
    "net %>% head()"
   ]
  },
  {
   "cell_type": "code",
   "execution_count": 42,
   "metadata": {},
   "outputs": [
    {
     "data": {
      "text/html": [
       "<style>\n",
       ".list-inline {list-style: none; margin:0; padding: 0}\n",
       ".list-inline>li {display: inline-block}\n",
       ".list-inline>li:not(:last-child)::after {content: \"\\00b7\"; padding: 0 .5ex}\n",
       "</style>\n",
       "<ol class=list-inline><li>11</li><li>3</li></ol>\n"
      ],
      "text/latex": [
       "\\begin{enumerate*}\n",
       "\\item 11\n",
       "\\item 3\n",
       "\\end{enumerate*}\n"
      ],
      "text/markdown": [
       "1. 11\n",
       "2. 3\n",
       "\n",
       "\n"
      ],
      "text/plain": [
       "[1] 11  3"
      ]
     },
     "metadata": {},
     "output_type": "display_data"
    }
   ],
   "source": [
    "dim(net)"
   ]
  },
  {
   "cell_type": "code",
   "execution_count": 43,
   "metadata": {},
   "outputs": [],
   "source": [
    "# tkplot: jupyter notebookでは動かないので RStudiio上で実演する\n",
    "#net %>% graph_from_data_frame() %>% tkplot(vertex.color='SkyBlue', vertex.size=22)"
   ]
  },
  {
   "cell_type": "code",
   "execution_count": 44,
   "metadata": {},
   "outputs": [
    {
     "data": {
      "text/html": [
       "<table>\n",
       "<caption>A data.frame: 6 × 5</caption>\n",
       "<thead>\n",
       "\t<tr><th></th><th scope=col>part_id</th><th scope=col>section_id</th><th scope=col>paragraph_id</th><th scope=col>sentence_id</th><th scope=col>content</th></tr>\n",
       "\t<tr><th></th><th scope=col>&lt;int&gt;</th><th scope=col>&lt;int&gt;</th><th scope=col>&lt;int&gt;</th><th scope=col>&lt;int&gt;</th><th scope=col>&lt;chr&gt;</th></tr>\n",
       "</thead>\n",
       "<tbody>\n",
       "\t<tr><th scope=row>1</th><td>1</td><td>1</td><td>1</td><td>1</td><td>私はその人を常に先生と呼んでいた。                                      </td></tr>\n",
       "\t<tr><th scope=row>2</th><td>1</td><td>1</td><td>1</td><td>2</td><td>だからここでもただ先生と書くだけで本名は打ち明けない。                  </td></tr>\n",
       "\t<tr><th scope=row>3</th><td>1</td><td>1</td><td>1</td><td>3</td><td>これは世間を憚かる遠慮というよりも、その方が私にとって自然だからである。</td></tr>\n",
       "\t<tr><th scope=row>4</th><td>1</td><td>1</td><td>1</td><td>4</td><td>私はその人の記憶を呼び起すごとに、すぐ「先生」といいたくなる。          </td></tr>\n",
       "\t<tr><th scope=row>5</th><td>1</td><td>1</td><td>1</td><td>5</td><td>筆を執っても心持は同じ事である。                                        </td></tr>\n",
       "\t<tr><th scope=row>6</th><td>1</td><td>1</td><td>1</td><td>6</td><td>よそよそしい頭文字などはとても使う気にならない。                        </td></tr>\n",
       "</tbody>\n",
       "</table>\n"
      ],
      "text/latex": [
       "A data.frame: 6 × 5\n",
       "\\begin{tabular}{r|lllll}\n",
       "  & part\\_id & section\\_id & paragraph\\_id & sentence\\_id & content\\\\\n",
       "  & <int> & <int> & <int> & <int> & <chr>\\\\\n",
       "\\hline\n",
       "\t1 & 1 & 1 & 1 & 1 & 私はその人を常に先生と呼んでいた。                                      \\\\\n",
       "\t2 & 1 & 1 & 1 & 2 & だからここでもただ先生と書くだけで本名は打ち明けない。                  \\\\\n",
       "\t3 & 1 & 1 & 1 & 3 & これは世間を憚かる遠慮というよりも、その方が私にとって自然だからである。\\\\\n",
       "\t4 & 1 & 1 & 1 & 4 & 私はその人の記憶を呼び起すごとに、すぐ「先生」といいたくなる。          \\\\\n",
       "\t5 & 1 & 1 & 1 & 5 & 筆を執っても心持は同じ事である。                                        \\\\\n",
       "\t6 & 1 & 1 & 1 & 6 & よそよそしい頭文字などはとても使う気にならない。                        \\\\\n",
       "\\end{tabular}\n"
      ],
      "text/markdown": [
       "\n",
       "A data.frame: 6 × 5\n",
       "\n",
       "| <!--/--> | part_id &lt;int&gt; | section_id &lt;int&gt; | paragraph_id &lt;int&gt; | sentence_id &lt;int&gt; | content &lt;chr&gt; |\n",
       "|---|---|---|---|---|---|\n",
       "| 1 | 1 | 1 | 1 | 1 | 私はその人を常に先生と呼んでいた。                                       |\n",
       "| 2 | 1 | 1 | 1 | 2 | だからここでもただ先生と書くだけで本名は打ち明けない。                   |\n",
       "| 3 | 1 | 1 | 1 | 3 | これは世間を憚かる遠慮というよりも、その方が私にとって自然だからである。 |\n",
       "| 4 | 1 | 1 | 1 | 4 | 私はその人の記憶を呼び起すごとに、すぐ「先生」といいたくなる。           |\n",
       "| 5 | 1 | 1 | 1 | 5 | 筆を執っても心持は同じ事である。                                         |\n",
       "| 6 | 1 | 1 | 1 | 6 | よそよそしい頭文字などはとても使う気にならない。                         |\n",
       "\n"
      ],
      "text/plain": [
       "  part_id section_id paragraph_id sentence_id\n",
       "1 1       1          1            1          \n",
       "2 1       1          1            2          \n",
       "3 1       1          1            3          \n",
       "4 1       1          1            4          \n",
       "5 1       1          1            5          \n",
       "6 1       1          1            6          \n",
       "  content                                                                 \n",
       "1 私はその人を常に先生と呼んでいた。                                      \n",
       "2 だからここでもただ先生と書くだけで本名は打ち明けない。                  \n",
       "3 これは世間を憚かる遠慮というよりも、その方が私にとって自然だからである。\n",
       "4 私はその人の記憶を呼び起すごとに、すぐ「先生」といいたくなる。          \n",
       "5 筆を執っても心持は同じ事である。                                        \n",
       "6 よそよそしい頭文字などはとても使う気にならない。                        "
      ]
     },
     "metadata": {},
     "output_type": "display_data"
    }
   ],
   "source": [
    "## sentenceごとにわける\n",
    "\n",
    "kokoro_sentence = read.delim('data/kokoro_sentence.tsv', header=T, sep='\\t', stringsAsFactor=F, fileEncoding='utf8')\n",
    "kokoro_sentence %>% head()\n",
    "\n"
   ]
  },
  {
   "cell_type": "code",
   "execution_count": 45,
   "metadata": {},
   "outputs": [],
   "source": [
    "# 共起を算出する関数\n",
    "\n",
    "get_cooc = function(string, pos=c('名詞', '動詞'), with_pos=F, unique=T, stopwords=c(), dic=''){\n",
    "    if(length(string) == 0){\n",
    "        return(c())\n",
    "    }\n",
    "    words = RMeCabC(string, 1, dic=dic) %>% unlist()\n",
    "    targets = words[names(words) %in% pos] \n",
    "    \n",
    "    ## オプション引数の処理    \n",
    "    # 重複を除くか\n",
    "    if(unique){\n",
    "        targets[!duplicated(targets)]\n",
    "    }\n",
    "    \n",
    "    # ストップワードを除くか\n",
    "    if(length(stopwords)){\n",
    "        targets = targets[! targets %in% stopwords]\n",
    "    }\n",
    "    \n",
    "    if(length(targets) < 2){\n",
    "        return(c())\n",
    "    }\n",
    "    \n",
    "    # 品詞(pos: Part of Speech)を表示するか \n",
    "    if(with_pos){\n",
    "        targets = str_c(targets,'/',names(targets))\n",
    "    }\n",
    "    \n",
    "    # 組み合わせを求める\n",
    "    res = combn(sort(targets),2)\n",
    "    \n",
    "    result = paste(res[1,], '-', res[2,], sep='')\n",
    "    return(result)\n",
    "}\n",
    "\n",
    "\n",
    "stopwords = c('事','の','よう','それ','もの', '人', '何','一', 'ん','方','二','前','気','中','上','今','ため', '時', 'そこ', 'どこ', 'これ', 'そう',\n",
    "              'いる', 'なる', 'する', 'いう', 'ある', 'れる', 'られる', 'くれる')\n"
   ]
  },
  {
   "cell_type": "code",
   "execution_count": 46,
   "metadata": {},
   "outputs": [
    {
     "data": {
      "text/html": [
       "35044"
      ],
      "text/latex": [
       "35044"
      ],
      "text/markdown": [
       "35044"
      ],
      "text/plain": [
       "[1] 35044"
      ]
     },
     "metadata": {},
     "output_type": "display_data"
    }
   ],
   "source": [
    "# map(): それぞれの要素に対して関数を適用\n",
    "# 各文に対してget_cooc()を適用する\n",
    "res = map(kokoro_sentence[,'content'], get_cooc, pos=c('名詞'), stopwords=stopwords)  %>% \n",
    "    unlist() %>% \n",
    "    table()\n",
    "res %>% dim()"
   ]
  },
  {
   "cell_type": "code",
   "execution_count": 47,
   "metadata": {},
   "outputs": [
    {
     "data": {
      "text/plain": [
       ".\n",
       "Ｋ-学年   Ｋ-後 Ｋ-向う   Ｋ-剛 Ｋ-仕方   Ｋ-情 \n",
       "      1       1       1       2       1       1 "
      ]
     },
     "metadata": {},
     "output_type": "display_data"
    }
   ],
   "source": [
    "res %>% head()"
   ]
  },
  {
   "cell_type": "code",
   "execution_count": 48,
   "metadata": {},
   "outputs": [
    {
     "data": {
      "image/png": "[encoded data removed]",
      "text/plain": [
       "plot without title"
      ]
     },
     "metadata": {
      "image/png": {
       "height": 420,
       "width": 420
      }
     },
     "output_type": "display_data"
    }
   ],
   "source": [
    "res %>% as.vector() %>% sort(decreasing=T) %>% plot()\n"
   ]
  },
  {
   "cell_type": "code",
   "execution_count": 49,
   "metadata": {},
   "outputs": [
    {
     "data": {
      "image/png": "[encoded data removed]",
      "text/plain": [
       "plot without title"
      ]
     },
     "metadata": {
      "image/png": {
       "height": 420,
       "width": 420
      }
     },
     "output_type": "display_data"
    }
   ],
   "source": [
    "res %>% as.vector() %>% sort(decreasing=T) %>% plot(log='y')"
   ]
  },
  {
   "cell_type": "code",
   "execution_count": 50,
   "metadata": {},
   "outputs": [
    {
     "data": {
      "image/png": "[encoded data removed]",
      "text/plain": [
       "plot without title"
      ]
     },
     "metadata": {
      "image/png": {
       "height": 420,
       "width": 420
      }
     },
     "output_type": "display_data"
    }
   ],
   "source": [
    "res %>% as.vector() %>% sort(decreasing=T) %>% plot(log='xy')"
   ]
  },
  {
   "cell_type": "code",
   "execution_count": 51,
   "metadata": {},
   "outputs": [
    {
     "data": {
      "text/plain": [
       ".\n",
       "Ｋ-学年   Ｋ-後 Ｋ-向う   Ｋ-剛 Ｋ-仕方   Ｋ-情 \n",
       "      1       1       1       2       1       1 "
      ]
     },
     "metadata": {},
     "output_type": "display_data"
    }
   ],
   "source": [
    "# 各部ごとに共起を集計する\n",
    "part1 = map(kokoro_sentence[kokoro_sentence$part_id == 1,'content'], get_cooc, pos=c('名詞'), stopwords=stopwords) %>% unlist() %>% table()\n",
    "part2 = map(kokoro_sentence[kokoro_sentence$part_id == 2,'content'], get_cooc, pos=c('名詞'), stopwords=stopwords) %>% unlist() %>% table()\n",
    "part3 = map(kokoro_sentence[kokoro_sentence$part_id == 3,'content'], get_cooc, pos=c('名詞'), stopwords=stopwords) %>% unlist() %>% table()\n",
    "part3 %>% head()"
   ]
  },
  {
   "cell_type": "code",
   "execution_count": 52,
   "metadata": {},
   "outputs": [],
   "source": [
    "# データフレームにして結合する\n",
    "df1 = as.data.frame(part1)\n",
    "df2 = as.data.frame(part2)\n",
    "df3 = as.data.frame(part3)\n",
    "res = merge(x=df1, y=df2, by='.', all=T)\n",
    "res = merge(x=res, y=df3, by='.', all=T)\n",
    "colnames(res) = c('term', 'df1', 'df2', 'df3')\n",
    "\n",
    "# NAはゼロで埋める\n",
    "res[is.na(res)] = 0"
   ]
  },
  {
   "cell_type": "code",
   "execution_count": 53,
   "metadata": {},
   "outputs": [
    {
     "data": {
      "image/png": "[encoded data removed]",
      "text/plain": [
       "plot without title"
      ]
     },
     "metadata": {
      "image/png": {
       "height": 420,
       "width": 420
      }
     },
     "output_type": "display_data"
    }
   ],
   "source": [
    "# 主成分分析をする\n",
    "mat = res\n",
    "row.names(mat) = mat[,1]\n",
    "mat = mat[2:4]\n",
    "mat = mat[rowSums(mat) > 50, ]\n",
    "colnames(mat) = c('第一部','第二部','第三部')\n",
    "\n",
    "mat_t = t(mat)\n",
    "\n",
    "ratio = mat_t / colSums(mat)\n",
    "ratio_t = t(ratio)\n",
    "result = (ratio_t / colSums(ratio))  %>% prcomp()\n",
    "\n",
    "biplot(result)\n"
   ]
  }
 ],
 "metadata": {
  "kernelspec": {
   "display_name": "R",
   "language": "R",
   "name": "ir"
  },
  "language_info": {
   "codemirror_mode": "r",
   "file_extension": ".r",
   "mimetype": "text/x-r-source",
   "name": "R",
   "pygments_lexer": "r",
   "version": "4.0.2"
  }
 },
 "nbformat": 4,
 "nbformat_minor": 2
}
